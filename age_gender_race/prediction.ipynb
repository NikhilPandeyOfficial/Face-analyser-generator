{
 "cells": [
  {
   "cell_type": "code",
   "execution_count": 3,
   "metadata": {},
   "outputs": [
    {
     "name": "stdout",
     "output_type": "stream",
     "text": [
      "remote: Enumerating objects: 12, done.\u001b[K\n",
      "remote: Counting objects: 100% (12/12), done.\u001b[K\n",
      "remote: Compressing objects: 100% (9/9), done.\u001b[K\n",
      "remote: Total 146 (delta 6), reused 5 (delta 3), pack-reused 134\u001b[K\n",
      "Receiving objects: 100% (146/146), 124.84 MiB | 1.20 MiB/s, done.\n",
      "Resolving deltas: 100% (46/46), completed with 1 local object.\n",
      "From github.com:NikhilPandeyOfficial/face-analyser-generator\n",
      " * branch            develop    -> FETCH_HEAD\n",
      "   75d61fd..e328516  develop    -> origin/develop\n",
      "Updating 75d61fd..e328516\n",
      "Fast-forward\n",
      " README.md                                          |  25 \u001b[32m+\u001b[m\n",
      " dataset-extractor/.gitignore                       |  34 \u001b[32m++\u001b[m\n",
      " dataset-extractor/age_dataset/adult/dataset.csv    | 501 \u001b[32m+++++++++++++++++++++\u001b[m\n",
      " dataset-extractor/age_dataset/adult/images.zip     | Bin \u001b[31m0\u001b[m -> \u001b[32m4072334\u001b[m bytes\n",
      " dataset-extractor/age_dataset/child/dataset.csv    | 501 \u001b[32m+++++++++++++++++++++\u001b[m\n",
      " dataset-extractor/age_dataset/child/images.zip     | Bin \u001b[31m0\u001b[m -> \u001b[32m3981316\u001b[m bytes\n",
      " dataset-extractor/age_dataset/elderly/dataset.csv  | 501 \u001b[32m+++++++++++++++++++++\u001b[m\n",
      " dataset-extractor/age_dataset/elderly/images.zip   | Bin \u001b[31m0\u001b[m -> \u001b[32m4417246\u001b[m bytes\n",
      " dataset-extractor/age_dataset/infant/dataset.csv   | 501 \u001b[32m+++++++++++++++++++++\u001b[m\n",
      " dataset-extractor/age_dataset/infant/images.zip    | Bin \u001b[31m0\u001b[m -> \u001b[32m4101335\u001b[m bytes\n",
      " .../age_dataset/young-adult/dataset.csv            | 501 \u001b[32m+++++++++++++++++++++\u001b[m\n",
      " .../age_dataset/young-adult/images.zip             | Bin \u001b[31m0\u001b[m -> \u001b[32m3990489\u001b[m bytes\n",
      " dataset-extractor/emotion_dataset/joy/dataset.csv  | 501 \u001b[32m+++++++++++++++++++++\u001b[m\n",
      " dataset-extractor/emotion_dataset/joy/images.zip   | Bin \u001b[31m0\u001b[m -> \u001b[32m4025152\u001b[m bytes\n",
      " .../emotion_dataset/neutral/dataset.csv            | 501 \u001b[32m+++++++++++++++++++++\u001b[m\n",
      " .../emotion_dataset/neutral/images.zip             | Bin \u001b[31m0\u001b[m -> \u001b[32m3901358\u001b[m bytes\n",
      " .../ethnicity_dataset/asian/dataset.csv            | 501 \u001b[32m+++++++++++++++++++++\u001b[m\n",
      " .../ethnicity_dataset/asian/images.zip             | Bin \u001b[31m0\u001b[m -> \u001b[32m3930241\u001b[m bytes\n",
      " .../ethnicity_dataset/black/dataset.csv            | 501 \u001b[32m+++++++++++++++++++++\u001b[m\n",
      " .../ethnicity_dataset/black/images.zip             | Bin \u001b[31m0\u001b[m -> \u001b[32m4084583\u001b[m bytes\n",
      " .../ethnicity_dataset/latino/dataset.csv           | 501 \u001b[32m+++++++++++++++++++++\u001b[m\n",
      " .../ethnicity_dataset/latino/images.zip            | Bin \u001b[31m0\u001b[m -> \u001b[32m3960016\u001b[m bytes\n",
      " .../ethnicity_dataset/white/dataset.csv            | 501 \u001b[32m+++++++++++++++++++++\u001b[m\n",
      " .../ethnicity_dataset/white/images.zip             | Bin \u001b[31m0\u001b[m -> \u001b[32m4181518\u001b[m bytes\n",
      " .../eye_color_dataset/blue/dataset.csv             | 501 \u001b[32m+++++++++++++++++++++\u001b[m\n",
      " .../eye_color_dataset/blue/images.zip              | Bin \u001b[31m0\u001b[m -> \u001b[32m4442691\u001b[m bytes\n",
      " .../eye_color_dataset/brown/dataset.csv            | 501 \u001b[32m+++++++++++++++++++++\u001b[m\n",
      " .../eye_color_dataset/brown/images.zip             | Bin \u001b[31m0\u001b[m -> \u001b[32m3985823\u001b[m bytes\n",
      " .../eye_color_dataset/green/dataset.csv            | 501 \u001b[32m+++++++++++++++++++++\u001b[m\n",
      " .../eye_color_dataset/green/images.zip             | Bin \u001b[31m0\u001b[m -> \u001b[32m4441910\u001b[m bytes\n",
      " .../eye_color_dataset/grey/dataset.csv             | 501 \u001b[32m+++++++++++++++++++++\u001b[m\n",
      " .../eye_color_dataset/grey/images.zip              | Bin \u001b[31m0\u001b[m -> \u001b[32m4164148\u001b[m bytes\n",
      " .../gender_dataset/female/dataset.csv              | 501 \u001b[32m+++++++++++++++++++++\u001b[m\n",
      " dataset-extractor/gender_dataset/female/images.zip | Bin \u001b[31m0\u001b[m -> \u001b[32m4212518\u001b[m bytes\n",
      " dataset-extractor/gender_dataset/male/dataset.csv  | 501 \u001b[32m+++++++++++++++++++++\u001b[m\n",
      " dataset-extractor/gender_dataset/male/images.zip   | Bin \u001b[31m0\u001b[m -> \u001b[32m3782752\u001b[m bytes\n",
      " .../hair_color_dataset/black/dataset.csv           | 501 \u001b[32m+++++++++++++++++++++\u001b[m\n",
      " .../hair_color_dataset/black/images.zip            | Bin \u001b[31m0\u001b[m -> \u001b[32m3873775\u001b[m bytes\n",
      " .../hair_color_dataset/blond/dataset.csv           | 501 \u001b[32m+++++++++++++++++++++\u001b[m\n",
      " .../hair_color_dataset/blond/images.zip            | Bin \u001b[31m0\u001b[m -> \u001b[32m63542\u001b[m bytes\n",
      " .../hair_color_dataset/brown/dataset.csv           | 501 \u001b[32m+++++++++++++++++++++\u001b[m\n",
      " .../hair_color_dataset/brown/images.zip            | Bin \u001b[31m0\u001b[m -> \u001b[32m4007194\u001b[m bytes\n",
      " .../hair_color_dataset/gray/dataset.csv            | 501 \u001b[32m+++++++++++++++++++++\u001b[m\n",
      " .../hair_color_dataset/gray/images.zip             | Bin \u001b[31m0\u001b[m -> \u001b[32m4272071\u001b[m bytes\n",
      " .../hair_length_dataset/long/dataset.csv           | 501 \u001b[32m+++++++++++++++++++++\u001b[m\n",
      " .../hair_length_dataset/long/images.zip            | Bin \u001b[31m0\u001b[m -> \u001b[32m4380692\u001b[m bytes\n",
      " .../hair_length_dataset/medium/dataset.csv         | 501 \u001b[32m+++++++++++++++++++++\u001b[m\n",
      " .../hair_length_dataset/medium/images.zip          | Bin \u001b[31m0\u001b[m -> \u001b[32m4222069\u001b[m bytes\n",
      " .../hair_length_dataset/short/dataset.csv          | 501 \u001b[32m+++++++++++++++++++++\u001b[m\n",
      " .../hair_length_dataset/short/images.zip           | Bin \u001b[31m0\u001b[m -> \u001b[32m3757343\u001b[m bytes\n",
      " dataset-extractor/index.js                         | 138 \u001b[32m++++++\u001b[m\n",
      " dataset-extractor/package-lock.json                | 360 \u001b[32m+++++++++++++++\u001b[m\n",
      " dataset-extractor/package.json                     |  15 \u001b[32m+\u001b[m\n",
      " 53 files changed, 12596 insertions(+)\n",
      " create mode 100644 README.md\n",
      " create mode 100644 dataset-extractor/.gitignore\n",
      " create mode 100644 dataset-extractor/age_dataset/adult/dataset.csv\n",
      " create mode 100644 dataset-extractor/age_dataset/adult/images.zip\n",
      " create mode 100644 dataset-extractor/age_dataset/child/dataset.csv\n",
      " create mode 100644 dataset-extractor/age_dataset/child/images.zip\n",
      " create mode 100644 dataset-extractor/age_dataset/elderly/dataset.csv\n",
      " create mode 100644 dataset-extractor/age_dataset/elderly/images.zip\n",
      " create mode 100644 dataset-extractor/age_dataset/infant/dataset.csv\n",
      " create mode 100644 dataset-extractor/age_dataset/infant/images.zip\n",
      " create mode 100644 dataset-extractor/age_dataset/young-adult/dataset.csv\n",
      " create mode 100644 dataset-extractor/age_dataset/young-adult/images.zip\n",
      " create mode 100644 dataset-extractor/emotion_dataset/joy/dataset.csv\n",
      " create mode 100644 dataset-extractor/emotion_dataset/joy/images.zip\n",
      " create mode 100644 dataset-extractor/emotion_dataset/neutral/dataset.csv\n",
      " create mode 100644 dataset-extractor/emotion_dataset/neutral/images.zip\n",
      " create mode 100644 dataset-extractor/ethnicity_dataset/asian/dataset.csv\n",
      " create mode 100644 dataset-extractor/ethnicity_dataset/asian/images.zip\n",
      " create mode 100644 dataset-extractor/ethnicity_dataset/black/dataset.csv\n",
      " create mode 100644 dataset-extractor/ethnicity_dataset/black/images.zip\n",
      " create mode 100644 dataset-extractor/ethnicity_dataset/latino/dataset.csv\n",
      " create mode 100644 dataset-extractor/ethnicity_dataset/latino/images.zip\n",
      " create mode 100644 dataset-extractor/ethnicity_dataset/white/dataset.csv\n",
      " create mode 100644 dataset-extractor/ethnicity_dataset/white/images.zip\n",
      " create mode 100644 dataset-extractor/eye_color_dataset/blue/dataset.csv\n",
      " create mode 100644 dataset-extractor/eye_color_dataset/blue/images.zip\n",
      " create mode 100644 dataset-extractor/eye_color_dataset/brown/dataset.csv\n",
      " create mode 100644 dataset-extractor/eye_color_dataset/brown/images.zip\n",
      " create mode 100644 dataset-extractor/eye_color_dataset/green/dataset.csv\n",
      " create mode 100644 dataset-extractor/eye_color_dataset/green/images.zip\n",
      " create mode 100644 dataset-extractor/eye_color_dataset/grey/dataset.csv\n",
      " create mode 100644 dataset-extractor/eye_color_dataset/grey/images.zip\n",
      " create mode 100644 dataset-extractor/gender_dataset/female/dataset.csv\n",
      " create mode 100644 dataset-extractor/gender_dataset/female/images.zip\n",
      " create mode 100644 dataset-extractor/gender_dataset/male/dataset.csv\n",
      " create mode 100644 dataset-extractor/gender_dataset/male/images.zip\n",
      " create mode 100644 dataset-extractor/hair_color_dataset/black/dataset.csv\n",
      " create mode 100644 dataset-extractor/hair_color_dataset/black/images.zip\n",
      " create mode 100644 dataset-extractor/hair_color_dataset/blond/dataset.csv\n",
      " create mode 100644 dataset-extractor/hair_color_dataset/blond/images.zip\n",
      " create mode 100644 dataset-extractor/hair_color_dataset/brown/dataset.csv\n",
      " create mode 100644 dataset-extractor/hair_color_dataset/brown/images.zip\n",
      " create mode 100644 dataset-extractor/hair_color_dataset/gray/dataset.csv\n",
      " create mode 100644 dataset-extractor/hair_color_dataset/gray/images.zip\n",
      " create mode 100644 dataset-extractor/hair_length_dataset/long/dataset.csv\n",
      " create mode 100644 dataset-extractor/hair_length_dataset/long/images.zip\n",
      " create mode 100644 dataset-extractor/hair_length_dataset/medium/dataset.csv\n",
      " create mode 100644 dataset-extractor/hair_length_dataset/medium/images.zip\n",
      " create mode 100644 dataset-extractor/hair_length_dataset/short/dataset.csv\n",
      " create mode 100644 dataset-extractor/hair_length_dataset/short/images.zip\n",
      " create mode 100644 dataset-extractor/index.js\n",
      " create mode 100644 dataset-extractor/package-lock.json\n",
      " create mode 100644 dataset-extractor/package.json\n"
     ]
    }
   ],
   "source": [
    "!git commit -m \"prediction age is completed 90%\""
   ]
  },
  {
   "cell_type": "code",
   "execution_count": 4,
   "metadata": {},
   "outputs": [],
   "source": [
    "import pandas as pd\n",
    "import numpy as np\n",
    "import cv2\n",
    "import os\n",
    "from sklearn.model_selection import train_test_split\n",
    "import tensorflow as tf\n",
    "from tensorflow.keras.models import Sequential\n",
    "from tensorflow.keras.layers import Dense\n",
    "from tensorflow.keras.layers import Conv2D, AveragePooling2D, GlobalAveragePooling2D\n",
    "from tensorflow.keras import utils\n",
    "from tensorflow.keras.callbacks import ModelCheckpoint\n",
    "np.random.seed(42)\n",
    "tf.random.set_seed(42)"
   ]
  },
  {
   "cell_type": "code",
   "execution_count": 5,
   "metadata": {},
   "outputs": [],
   "source": [
    "from keras.utils import np_utils"
   ]
  },
  {
   "cell_type": "code",
   "execution_count": 6,
   "metadata": {},
   "outputs": [],
   "source": [
    "dataset = pd.read_csv('dataset_200.csv')"
   ]
  },
  {
   "cell_type": "code",
   "execution_count": 7,
   "metadata": {},
   "outputs": [
    {
     "name": "stdout",
     "output_type": "stream",
     "text": [
      "../../age_detection/age_gender_race/65_0_0_20170103183632050.jpg.chip.jpg\n"
     ]
    }
   ],
   "source": [
    "s = str(dataset['image'].values[0])\n",
    "print(s)"
   ]
  },
  {
   "cell_type": "code",
   "execution_count": 8,
   "metadata": {},
   "outputs": [
    {
     "data": {
      "text/plain": [
       "(200, 200)"
      ]
     },
     "execution_count": 8,
     "metadata": {},
     "output_type": "execute_result"
    }
   ],
   "source": [
    "gray = cv2.cvtColor(cv2.imread(s), cv2.COLOR_BGR2GRAY)\n",
    "gray.shape"
   ]
  },
  {
   "cell_type": "code",
   "execution_count": 9,
   "metadata": {},
   "outputs": [
    {
     "data": {
      "text/html": [
       "<div>\n",
       "<style scoped>\n",
       "    .dataframe tbody tr th:only-of-type {\n",
       "        vertical-align: middle;\n",
       "    }\n",
       "\n",
       "    .dataframe tbody tr th {\n",
       "        vertical-align: top;\n",
       "    }\n",
       "\n",
       "    .dataframe thead th {\n",
       "        text-align: right;\n",
       "    }\n",
       "</style>\n",
       "<table border=\"1\" class=\"dataframe\">\n",
       "  <thead>\n",
       "    <tr style=\"text-align: right;\">\n",
       "      <th></th>\n",
       "      <th>image</th>\n",
       "    </tr>\n",
       "  </thead>\n",
       "  <tbody>\n",
       "    <tr>\n",
       "      <th>0</th>\n",
       "      <td>../../age_detection/age_gender_race/65_0_0_201...</td>\n",
       "    </tr>\n",
       "    <tr>\n",
       "      <th>1</th>\n",
       "      <td>../../age_detection/age_gender_race/71_0_0_201...</td>\n",
       "    </tr>\n",
       "    <tr>\n",
       "      <th>2</th>\n",
       "      <td>../../age_detection/age_gender_race/38_0_1_201...</td>\n",
       "    </tr>\n",
       "    <tr>\n",
       "      <th>3</th>\n",
       "      <td>../../age_detection/age_gender_race/16_0_0_201...</td>\n",
       "    </tr>\n",
       "    <tr>\n",
       "      <th>4</th>\n",
       "      <td>../../age_detection/age_gender_race/1_1_4_2017...</td>\n",
       "    </tr>\n",
       "    <tr>\n",
       "      <th>...</th>\n",
       "      <td>...</td>\n",
       "    </tr>\n",
       "    <tr>\n",
       "      <th>23703</th>\n",
       "      <td>../../age_detection/age_gender_race/35_0_0_201...</td>\n",
       "    </tr>\n",
       "    <tr>\n",
       "      <th>23704</th>\n",
       "      <td>../../age_detection/age_gender_race/35_1_0_201...</td>\n",
       "    </tr>\n",
       "    <tr>\n",
       "      <th>23705</th>\n",
       "      <td>../../age_detection/age_gender_race/26_0_0_201...</td>\n",
       "    </tr>\n",
       "    <tr>\n",
       "      <th>23706</th>\n",
       "      <td>../../age_detection/age_gender_race/55_0_0_201...</td>\n",
       "    </tr>\n",
       "    <tr>\n",
       "      <th>23707</th>\n",
       "      <td>../../age_detection/age_gender_race/79_0_0_201...</td>\n",
       "    </tr>\n",
       "  </tbody>\n",
       "</table>\n",
       "<p>23708 rows × 1 columns</p>\n",
       "</div>"
      ],
      "text/plain": [
       "                                                   image\n",
       "0      ../../age_detection/age_gender_race/65_0_0_201...\n",
       "1      ../../age_detection/age_gender_race/71_0_0_201...\n",
       "2      ../../age_detection/age_gender_race/38_0_1_201...\n",
       "3      ../../age_detection/age_gender_race/16_0_0_201...\n",
       "4      ../../age_detection/age_gender_race/1_1_4_2017...\n",
       "...                                                  ...\n",
       "23703  ../../age_detection/age_gender_race/35_0_0_201...\n",
       "23704  ../../age_detection/age_gender_race/35_1_0_201...\n",
       "23705  ../../age_detection/age_gender_race/26_0_0_201...\n",
       "23706  ../../age_detection/age_gender_race/55_0_0_201...\n",
       "23707  ../../age_detection/age_gender_race/79_0_0_201...\n",
       "\n",
       "[23708 rows x 1 columns]"
      ]
     },
     "execution_count": 9,
     "metadata": {},
     "output_type": "execute_result"
    }
   ],
   "source": [
    "X = dataset.drop(columns=['target_age','target_gender','target_race','age','Unnamed: 0'])\n",
    "y = dataset.drop(columns=['image','target_gender','target_race','age','Unnamed: 0'])\n",
    "X"
   ]
  },
  {
   "cell_type": "code",
   "execution_count": 10,
   "metadata": {},
   "outputs": [
    {
     "name": "stdout",
     "output_type": "stream",
     "text": [
      "(23708, 1) (23708, 1)\n"
     ]
    }
   ],
   "source": [
    "print(X.shape,y.shape)"
   ]
  },
  {
   "cell_type": "code",
   "execution_count": 11,
   "metadata": {},
   "outputs": [],
   "source": [
    "X_train, X_test, y_train, y_test = train_test_split(X, y, test_size=0.05, random_state=42)"
   ]
  },
  {
   "cell_type": "code",
   "execution_count": 12,
   "metadata": {},
   "outputs": [],
   "source": [
    "y_train = np_utils.to_categorical(y_train)\n",
    "y_test = np_utils.to_categorical(y_test)"
   ]
  },
  {
   "cell_type": "code",
   "execution_count": 13,
   "metadata": {},
   "outputs": [],
   "source": [
    "from tqdm import tqdm"
   ]
  },
  {
   "cell_type": "code",
   "execution_count": 14,
   "metadata": {},
   "outputs": [],
   "source": [
    "def get_data_from_local(X_train):\n",
    "    X_data =[]\n",
    "    for file in tqdm(X_train['image']):\n",
    "        face = cv2.imread(file,cv2.IMREAD_COLOR)\n",
    "        face = cv2.cvtColor(face, cv2.COLOR_BGR2GRAY)\n",
    "        face =cv2.resize(face, (200,200))\n",
    "        face = np.expand_dims(face, axis=2)\n",
    "        face = np.asarray(face)\n",
    "        face = face.astype('float32')\n",
    "        face /= 255\n",
    "        X_data.append(face)\n",
    "    return np.array(X_data)"
   ]
  },
  {
   "cell_type": "code",
   "execution_count": 15,
   "metadata": {},
   "outputs": [
    {
     "name": "stderr",
     "output_type": "stream",
     "text": [
      "  2%|▏         | 343/22522 [00:07<07:49, 47.22it/s]\n"
     ]
    },
    {
     "ename": "KeyboardInterrupt",
     "evalue": "",
     "output_type": "error",
     "traceback": [
      "\u001b[0;31m---------------------------------------------------------------------------\u001b[0m",
      "\u001b[0;31mKeyboardInterrupt\u001b[0m                         Traceback (most recent call last)",
      "\u001b[0;32m<ipython-input-15-af36d7dd3b20>\u001b[0m in \u001b[0;36m<module>\u001b[0;34m\u001b[0m\n\u001b[0;32m----> 1\u001b[0;31m \u001b[0mX_train\u001b[0m \u001b[0;34m=\u001b[0m \u001b[0mget_data_from_local\u001b[0m\u001b[0;34m(\u001b[0m\u001b[0mX_train\u001b[0m\u001b[0;34m)\u001b[0m\u001b[0;34m\u001b[0m\u001b[0;34m\u001b[0m\u001b[0m\n\u001b[0m\u001b[1;32m      2\u001b[0m \u001b[0mX_test\u001b[0m \u001b[0;34m=\u001b[0m \u001b[0mget_data_from_local\u001b[0m\u001b[0;34m(\u001b[0m\u001b[0mX_test\u001b[0m\u001b[0;34m)\u001b[0m\u001b[0;34m\u001b[0m\u001b[0;34m\u001b[0m\u001b[0m\n",
      "\u001b[0;32m<ipython-input-14-6fac6282ff2e>\u001b[0m in \u001b[0;36mget_data_from_local\u001b[0;34m(X_train)\u001b[0m\n\u001b[1;32m      2\u001b[0m     \u001b[0mX_data\u001b[0m \u001b[0;34m=\u001b[0m\u001b[0;34m[\u001b[0m\u001b[0;34m]\u001b[0m\u001b[0;34m\u001b[0m\u001b[0;34m\u001b[0m\u001b[0m\n\u001b[1;32m      3\u001b[0m     \u001b[0;32mfor\u001b[0m \u001b[0mfile\u001b[0m \u001b[0;32min\u001b[0m \u001b[0mtqdm\u001b[0m\u001b[0;34m(\u001b[0m\u001b[0mX_train\u001b[0m\u001b[0;34m[\u001b[0m\u001b[0;34m'image'\u001b[0m\u001b[0;34m]\u001b[0m\u001b[0;34m)\u001b[0m\u001b[0;34m:\u001b[0m\u001b[0;34m\u001b[0m\u001b[0;34m\u001b[0m\u001b[0m\n\u001b[0;32m----> 4\u001b[0;31m         \u001b[0mface\u001b[0m \u001b[0;34m=\u001b[0m \u001b[0mcv2\u001b[0m\u001b[0;34m.\u001b[0m\u001b[0mimread\u001b[0m\u001b[0;34m(\u001b[0m\u001b[0mfile\u001b[0m\u001b[0;34m,\u001b[0m\u001b[0mcv2\u001b[0m\u001b[0;34m.\u001b[0m\u001b[0mIMREAD_COLOR\u001b[0m\u001b[0;34m)\u001b[0m\u001b[0;34m\u001b[0m\u001b[0;34m\u001b[0m\u001b[0m\n\u001b[0m\u001b[1;32m      5\u001b[0m         \u001b[0mface\u001b[0m \u001b[0;34m=\u001b[0m \u001b[0mcv2\u001b[0m\u001b[0;34m.\u001b[0m\u001b[0mcvtColor\u001b[0m\u001b[0;34m(\u001b[0m\u001b[0mface\u001b[0m\u001b[0;34m,\u001b[0m \u001b[0mcv2\u001b[0m\u001b[0;34m.\u001b[0m\u001b[0mCOLOR_BGR2GRAY\u001b[0m\u001b[0;34m)\u001b[0m\u001b[0;34m\u001b[0m\u001b[0;34m\u001b[0m\u001b[0m\n\u001b[1;32m      6\u001b[0m         \u001b[0mface\u001b[0m \u001b[0;34m=\u001b[0m\u001b[0mcv2\u001b[0m\u001b[0;34m.\u001b[0m\u001b[0mresize\u001b[0m\u001b[0;34m(\u001b[0m\u001b[0mface\u001b[0m\u001b[0;34m,\u001b[0m \u001b[0;34m(\u001b[0m\u001b[0;36m200\u001b[0m\u001b[0;34m,\u001b[0m\u001b[0;36m200\u001b[0m\u001b[0;34m)\u001b[0m\u001b[0;34m)\u001b[0m\u001b[0;34m\u001b[0m\u001b[0;34m\u001b[0m\u001b[0m\n",
      "\u001b[0;31mKeyboardInterrupt\u001b[0m: "
     ]
    }
   ],
   "source": [
    "X_train = get_data_from_local(X_train)\n",
    "X_test = get_data_from_local(X_test)"
   ]
  },
  {
   "cell_type": "code",
   "execution_count": 13,
   "metadata": {},
   "outputs": [
    {
     "name": "stdout",
     "output_type": "stream",
     "text": [
      "(22522, 7) (1186, 7) (22522, 200, 200, 1) (1186, 200, 200, 1)\n"
     ]
    }
   ],
   "source": [
    "y_train = np.asarray(y_train).astype(np.float32)\n",
    "y_test = np.asarray(y_test).astype(np.float32)\n",
    "print(y_train.shape,y_test.shape,X_train.shape,X_test.shape)"
   ]
  },
  {
   "cell_type": "code",
   "execution_count": 14,
   "metadata": {},
   "outputs": [
    {
     "name": "stdout",
     "output_type": "stream",
     "text": [
      "Model: \"sequential\"\n",
      "_________________________________________________________________\n",
      "Layer (type)                 Output Shape              Param #   \n",
      "=================================================================\n",
      "conv2d (Conv2D)              (None, 198, 198, 32)      320       \n",
      "_________________________________________________________________\n",
      "average_pooling2d (AveragePo (None, 99, 99, 32)        0         \n",
      "_________________________________________________________________\n",
      "conv2d_1 (Conv2D)            (None, 97, 97, 64)        18496     \n",
      "_________________________________________________________________\n",
      "average_pooling2d_1 (Average (None, 48, 48, 64)        0         \n",
      "_________________________________________________________________\n",
      "conv2d_2 (Conv2D)            (None, 46, 46, 128)       73856     \n",
      "_________________________________________________________________\n",
      "average_pooling2d_2 (Average (None, 23, 23, 128)       0         \n",
      "_________________________________________________________________\n",
      "conv2d_3 (Conv2D)            (None, 21, 21, 256)       295168    \n",
      "_________________________________________________________________\n",
      "average_pooling2d_3 (Average (None, 10, 10, 256)       0         \n",
      "_________________________________________________________________\n",
      "global_average_pooling2d (Gl (None, 256)               0         \n",
      "_________________________________________________________________\n",
      "dense (Dense)                (None, 132)               33924     \n",
      "_________________________________________________________________\n",
      "dense_1 (Dense)              (None, 7)                 931       \n",
      "=================================================================\n",
      "Total params: 422,695\n",
      "Trainable params: 422,695\n",
      "Non-trainable params: 0\n",
      "_________________________________________________________________\n"
     ]
    }
   ],
   "source": [
    "final_cnn = Sequential()\n",
    "final_cnn.add(Conv2D(filters=32, kernel_size=3, activation='relu', input_shape=(200, 200, 1)))  \n",
    "final_cnn.add(AveragePooling2D(pool_size=(2,2)))\n",
    "final_cnn.add(Conv2D(filters=64, kernel_size=3, activation='relu'))\n",
    "final_cnn.add(AveragePooling2D(pool_size=(2,2)))\n",
    "final_cnn.add(Conv2D(filters=128, kernel_size=3, activation='relu'))\n",
    "final_cnn.add(AveragePooling2D(pool_size=(2,2)))\n",
    "final_cnn.add(Conv2D(filters=256, kernel_size=3, activation='relu'))\n",
    "final_cnn.add(AveragePooling2D(pool_size=(2,2)))\n",
    "final_cnn.add(GlobalAveragePooling2D())\n",
    "\n",
    "final_cnn.add(Dense(132, activation='relu'))\n",
    "\n",
    "final_cnn.add(Dense(7, activation='softmax'))\n",
    "\n",
    "final_cnn.summary()"
   ]
  },
  {
   "cell_type": "code",
   "execution_count": 15,
   "metadata": {},
   "outputs": [],
   "source": [
    "final_cnn.compile(loss='categorical_crossentropy', optimizer='adam', metrics=['accuracy'])"
   ]
  },
  {
   "cell_type": "code",
   "execution_count": null,
   "metadata": {},
   "outputs": [],
   "source": []
  },
  {
   "cell_type": "code",
   "execution_count": 16,
   "metadata": {},
   "outputs": [],
   "source": [
    "# Creating a ModelCheckpoint callback object to save the model according to the value of val_accuracy.\n",
    "\n",
    "checkpoint = ModelCheckpoint(filepath=f\"final_cnn_model_checkpoint.h5\",\n",
    "                             monitor='val_accuracy',\n",
    "                             save_best_only=True,\n",
    "                             save_weights_only=False,\n",
    "                             verbose=1\n",
    "                            )"
   ]
  },
  {
   "cell_type": "code",
   "execution_count": null,
   "metadata": {},
   "outputs": [],
   "source": [
    "# Fitting the above created CNN model.\n",
    "\n",
    "final_cnn_history = final_cnn.fit(x=X_train,\n",
    "                                  y=y_train,\n",
    "                                  batch_size=512,\n",
    "                                  validation_data=(X_test,y_test),\n",
    "                                  epochs=60,\n",
    "                                  callbacks=[checkpoint],\n",
    "                                  shuffle=False    # shuffle=False to reduce randomness and increase reproducibility\n",
    "                                 )"
   ]
  },
  {
   "cell_type": "code",
   "execution_count": null,
   "metadata": {},
   "outputs": [],
   "source": []
  }
 ],
 "metadata": {
  "kernelspec": {
   "display_name": "Python 3",
   "language": "python",
   "name": "python3"
  },
  "language_info": {
   "codemirror_mode": {
    "name": "ipython",
    "version": 3
   },
   "file_extension": ".py",
   "mimetype": "text/x-python",
   "name": "python",
   "nbconvert_exporter": "python",
   "pygments_lexer": "ipython3",
   "version": "3.8.5"
  }
 },
 "nbformat": 4,
 "nbformat_minor": 4
}
