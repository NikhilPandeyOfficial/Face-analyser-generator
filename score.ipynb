{
 "cells": [
  {
   "cell_type": "markdown",
   "metadata": {},
   "source": [
    "# Prediction and Score"
   ]
  },
  {
   "cell_type": "markdown",
   "metadata": {},
   "source": [
    "#### Imports"
   ]
  },
  {
   "cell_type": "code",
   "execution_count": null,
   "metadata": {},
   "outputs": [],
   "source": [
    "import pandas as pd\n",
    "import numpy as np\n",
    "import cv2\n",
    "import os\n",
    "import csv\n",
    "import tensorflow as tf\n",
    "from tensorflow.keras import utils\n",
    "from tensorflow.keras.callbacks import ModelCheckpoint\n",
    "from tqdm import tqdm\n",
    "np.random.seed(42)\n",
    "tf.random.set_seed(42)\n",
    "from keras.models import load_model\n",
    "from keras.utils import np_utils"
   ]
  },
  {
   "cell_type": "markdown",
   "metadata": {},
   "source": [
    "#### Making the Dataset.csv"
   ]
  },
  {
   "cell_type": "code",
   "execution_count": 10,
   "metadata": {},
   "outputs": [],
   "source": [
    "csv_col_1_header=\"path\"\n",
    "csv_col_2_header=\"hair_color\"\n",
    "path_to_val_img=\"./val_img/\"\n",
    "with open('dataset.csv','w',newline='') as new_file:\n",
    "    csv_writer=csv.writer(new_file)\n",
    "    csv_writer.writerow([csv_col_1_header,csv_col_2_header])\n",
    "    \n",
    "    # 'folders' variable lists the folders\n",
    "    # later the index of the folder name in 'folders' variable\n",
    "    # is used to write the lable of the image\n",
    "    # eg. if folders[1] has value \"Black\" then in the csv for Hair-Color\n",
    "    # the hair_color value will be 1\n",
    "    \n",
    "    # if the indices of the folders do not match the 'digital2label' variable\n",
    "    # in the training file then manually pass the list in 'folders' variable\n",
    "    # eg.\n",
    "    # folders={0:\"black\", 1:\"blond\", 2:\"brown\", 3:\"gray\"}\n",
    "    folders=os.listdir(path_to_val_img)\n",
    "    \n",
    "    for i in range(0,len(folders)):\n",
    "        files=os.listdir(path_to_val_img+folders[i]+\"/\")\n",
    "        for file in files:\n",
    "            write_this=[path_to_val_img+folders[i]+\"/\"+file,i]\n",
    "            csv_writer.writerow(write_this)"
   ]
  },
  {
   "cell_type": "markdown",
   "metadata": {},
   "source": [
    "#### Preparing X_train"
   ]
  },
  {
   "cell_type": "code",
   "execution_count": 11,
   "metadata": {},
   "outputs": [],
   "source": [
    "def get_data_from_local(X_train):\n",
    "    X_data =[]\n",
    "    for file in tqdm(X_train['path']):\n",
    "        face = cv2.imread(file,cv2.IMREAD_COLOR)\n",
    "        face =cv2.resize(face, (218,178)) # dimensions (height, width) in witch the model was trained\n",
    "        face = np.asarray(face)\n",
    "        face = face.astype('float32')\n",
    "        face /= 255\n",
    "        X_data.append(face)\n",
    "    return np.array(X_data)"
   ]
  },
  {
   "cell_type": "markdown",
   "metadata": {},
   "source": [
    "#### Preparing the X_test and y_test"
   ]
  },
  {
   "cell_type": "code",
   "execution_count": 16,
   "metadata": {},
   "outputs": [
    {
     "name": "stderr",
     "output_type": "stream",
     "text": [
      "100%|███████████████████████████████████████████████████████████████████████████████| 400/400 [00:00<00:00, 721.34it/s]\n"
     ]
    },
    {
     "name": "stdout",
     "output_type": "stream",
     "text": [
      "Shape of Dataset:: hair_color (400, 178, 218, 3) (400, 4)\n"
     ]
    }
   ],
   "source": [
    "file_path=\"./dataset.csv\"\n",
    "x_columns_for_remove=\"hair_color\" # change according to the label column header in Dataset.csv \n",
    "y_columns_for_remove=\"path\" # no need to change\n",
    "training_feature = 'hair_color'\n",
    "\n",
    "dataset = pd.read_csv(file_path)\n",
    "X_test = dataset.drop(columns=x_columns_for_remove)\n",
    "y_test = dataset.drop(columns=y_columns_for_remove)\n",
    "\n",
    "y_test = np_utils.to_categorical(y_test)\n",
    "X_test = get_data_from_local(X_test)\n",
    "y_test = np.asarray(y_test).astype(np.float32)\n",
    "print('Shape of Dataset::',training_feature,X_test.shape,y_test.shape)  "
   ]
  },
  {
   "cell_type": "markdown",
   "metadata": {},
   "source": [
    "#### Importing the saved model"
   ]
  },
  {
   "cell_type": "code",
   "execution_count": 20,
   "metadata": {},
   "outputs": [],
   "source": [
    "path_of_model = 'final_cnn_model_checkpoint.tf' # model checkpoint filename\n",
    "model = load_model(path_of_model)"
   ]
  },
  {
   "cell_type": "markdown",
   "metadata": {},
   "source": [
    "#### Scoring"
   ]
  },
  {
   "cell_type": "code",
   "execution_count": 24,
   "metadata": {},
   "outputs": [
    {
     "name": "stdout",
     "output_type": "stream",
     "text": [
      "13/13 [==============================] - 13s 963ms/step - loss: 2.6427 - accuracy: 0.3975\n",
      "Baseline Error: 60.25%\n"
     ]
    }
   ],
   "source": [
    "scores = model.evaluate(X_test, y_test, verbose=1)\n",
    "print(\"Baseline Error: %.2f%%\" % (100-scores[1]*100))"
   ]
  },
  {
   "cell_type": "code",
   "execution_count": null,
   "metadata": {},
   "outputs": [],
   "source": []
  }
 ],
 "metadata": {
  "kernelspec": {
   "display_name": "Python 3",
   "language": "python",
   "name": "python3"
  },
  "language_info": {
   "codemirror_mode": {
    "name": "ipython",
    "version": 3
   },
   "file_extension": ".py",
   "mimetype": "text/x-python",
   "name": "python",
   "nbconvert_exporter": "python",
   "pygments_lexer": "ipython3",
   "version": "3.7.4"
  }
 },
 "nbformat": 4,
 "nbformat_minor": 4
}
