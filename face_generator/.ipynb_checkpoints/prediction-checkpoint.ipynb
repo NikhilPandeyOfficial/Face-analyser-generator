{
 "cells": [
  {
   "cell_type": "code",
   "execution_count": 1,
   "metadata": {},
   "outputs": [],
   "source": [
    "import pandas as pd\n",
    "from tqdm import tqdm\n",
    "import cv2\n",
    "import numpy as np\n",
    "import os\n",
    "from sklearn.model_selection import train_test_split\n",
    "import tensorflow as tf\n",
    "from tensorflow.keras.models import Sequential\n",
    "from tensorflow.keras.layers import Dense\n",
    "from tensorflow.keras.layers import Conv2D, AveragePooling2D, GlobalAveragePooling2D\n",
    "from tensorflow.keras import utils\n",
    "from tensorflow.keras.callbacks import ModelCheckpoint\n",
    "from tqdm import tqdm\n",
    "np.random.seed(42)\n",
    "tf.random.set_seed(42)\n",
    "from keras.callbacks import EarlyStopping \n",
    "from keras.models import load_model"
   ]
  },
  {
   "cell_type": "code",
   "execution_count": 2,
   "metadata": {},
   "outputs": [],
   "source": [
    "def training_dataset_(\n",
    "    file_path,\n",
    "    image_per_batch,\n",
    "    start_row,\n",
    "    ):\n",
    "    df = pd.read_csv(file_path)[start_row:start_row+image_per_batch]\n",
    "    \n",
    "    df = df.drop('Unnamed: 0',axis=1)\n",
    "    \n",
    "    y = get_data_from_local(df)\n",
    "    x = df.drop('image',axis=1)\n",
    "    x = x.values\n",
    "    \n",
    "    return x , y"
   ]
  },
  {
   "cell_type": "code",
   "execution_count": 3,
   "metadata": {},
   "outputs": [],
   "source": [
    "def get_data_from_local(X_train):\n",
    "    X_data =[]\n",
    "    for file in tqdm(X_train['image']):\n",
    "        face = cv2.imread(file,cv2.IMREAD_COLOR)\n",
    "        face = cv2.cvtColor(face, cv2.COLOR_BGR2RGB)\n",
    "        face =cv2.resize(face, (200,200))\n",
    "#         face = np.expand_dims(face, axis=2)\n",
    "        face = np.asarray(face)\n",
    "        face = face.astype('float32')\n",
    "        face /= 255\n",
    "        X_data.append(face)\n",
    "    return np.array(X_data)"
   ]
  },
  {
   "cell_type": "markdown",
   "metadata": {},
   "source": [
    "### model"
   ]
  },
  {
   "cell_type": "code",
   "execution_count": 4,
   "metadata": {},
   "outputs": [],
   "source": [
    "from keras.layers import Conv2D , MaxPool2D ,ZeroPadding2D , UpSampling2D ,Reshape, Input ,Dense, Activation,Flatten\n",
    "from keras.utils import np_utils\n",
    "from keras.models import Model\n",
    "\n",
    "def model(number_of_label):\n",
    "    inp = Input(shape = (number_of_label,))\n",
    "    \n",
    "    fc1 = Dense(500,activation=\"sigmoid\")(inp)\n",
    "    \n",
    "    fc2 = Dense(2000,activation=\"sigmoid\")(fc1)\n",
    "    \n",
    "    fc3 = Dense(4000,activation=\"sigmoid\")(fc2)\n",
    "\n",
    "    fc4 = Dense(8836,activation=\"sigmoid\")(fc3)\n",
    "\n",
    "    res1 = Reshape((47,47,4))(fc4)\n",
    "    zrp1 = ZeroPadding2D((1,1))(res1)\n",
    "\n",
    "    conv4 = Conv2D(16,(3,3),padding=\"same\" , activation =\"relu\")(zrp1)\n",
    "    ups1 = UpSampling2D((2,2))(conv4)\n",
    "    \n",
    "    conv8 = Conv2D(16,(3,3),padding=\"same\" , activation =\"relu\")(ups1)\n",
    "    ups7 = UpSampling2D((2,2))(conv8)\n",
    "\n",
    "    zrp2 = ZeroPadding2D((1,1))(ups7)\n",
    "    conv5 = Conv2D(32,(3,3),padding=\"same\" , activation =\"relu\")(zrp2)\n",
    "\n",
    "    zrp3 = ZeroPadding2D((1,1))(conv5)\n",
    "    conv6 = Conv2D(3,(3,3),padding=\"same\" , activation=\"relu\")(zrp3)\n",
    "    c_a_e = Model(inputs=inp, outputs=conv6)\n",
    "    c_a_e.compile(loss='mse', optimizer='adam', metrics=['accuracy'])\n",
    "    c_a_e.summary()\n",
    "    return c_a_e"
   ]
  },
  {
   "cell_type": "markdown",
   "metadata": {},
   "source": [
    "### training"
   ]
  },
  {
   "cell_type": "code",
   "execution_count": 5,
   "metadata": {},
   "outputs": [],
   "source": [
    "def training(\n",
    "    start_row,\n",
    "    number_of_labels,\n",
    "    file_path,\n",
    "    image_per_batch,\n",
    "    max_limit,\n",
    "    path_of_model\n",
    "):\n",
    "\n",
    "    checkpoint = ModelCheckpoint(filepath=path_of_model,\n",
    "                             monitor='val_accuracy',\n",
    "                             save_format='tf',\n",
    "                             save_best_only=True,\n",
    "                             save_weights_only=False,\n",
    "                             verbose=1\n",
    "                            )\n",
    "    early_stopping_monitor = EarlyStopping(patience=2,verbose=1) \n",
    "    \n",
    "    for x in range(start_row,max_limit,image_per_batch):\n",
    "        \n",
    "        print()\n",
    "        print('**********{} -- {} out of {}************'.format(x,x+image_per_batch,max_limit))\n",
    "        print()\n",
    "    \n",
    "        X_train , y_train   =   training_dataset_(\n",
    "                        file_path = file_path,\n",
    "                        start_row = x,\n",
    "                        image_per_batch = image_per_batch,\n",
    "        )\n",
    "        \n",
    "#         if x != 0:\n",
    "        final_cnn = load_model(path_of_model)\n",
    "#         else:\n",
    "#             final_cnn = model(number_of_labels)\n",
    "            \n",
    "        try:\n",
    "            final_cnn_history = final_cnn.fit(x=X_train,\n",
    "                                          y=y_train,\n",
    "                                          batch_size=64,\n",
    "                                          validation_split=0.5,\n",
    "                                          epochs=15,\n",
    "                                          callbacks=[checkpoint,early_stopping_monitor],\n",
    "                                          shuffle=False    # shuffle=False to reduce randomness and increase reproducibility\n",
    "                                         )\n",
    "        except:\n",
    "            continue"
   ]
  },
  {
   "cell_type": "code",
   "execution_count": 6,
   "metadata": {},
   "outputs": [
    {
     "name": "stdout",
     "output_type": "stream",
     "text": [
      "\n",
      "**********16000 -- 17000 out of 35000************\n",
      "\n"
     ]
    },
    {
     "name": "stderr",
     "output_type": "stream",
     "text": [
      "100%|██████████████████████████████████████████████████████████████████████████████| 1000/1000 [00:12<00:00, 83.25it/s]\n"
     ]
    },
    {
     "name": "stdout",
     "output_type": "stream",
     "text": [
      "Epoch 1/15\n",
      "8/8 [==============================] - ETA: 0s - loss: 0.0701 - accuracy: 0.7550\n",
      "Epoch 00001: val_accuracy improved from -inf to 0.72710, saving model to final_cnn_checkpoint.tf\n",
      "WARNING:tensorflow:From c:\\users\\nikhil\\appdata\\local\\programs\\python\\python37\\lib\\site-packages\\tensorflow\\python\\training\\tracking\\tracking.py:111: Model.state_updates (from tensorflow.python.keras.engine.training) is deprecated and will be removed in a future version.\n",
      "Instructions for updating:\n",
      "This property should not be used in TensorFlow 2.0, as updates are applied automatically.\n",
      "WARNING:tensorflow:From c:\\users\\nikhil\\appdata\\local\\programs\\python\\python37\\lib\\site-packages\\tensorflow\\python\\training\\tracking\\tracking.py:111: Layer.updates (from tensorflow.python.keras.engine.base_layer) is deprecated and will be removed in a future version.\n",
      "Instructions for updating:\n",
      "This property should not be used in TensorFlow 2.0, as updates are applied automatically.\n",
      "INFO:tensorflow:Assets written to: final_cnn_checkpoint.tf\\assets\n",
      "8/8 [==============================] - 59s 7s/step - loss: 0.0701 - accuracy: 0.7550 - val_loss: 0.0705 - val_accuracy: 0.7271\n",
      "Epoch 2/15\n",
      "8/8 [==============================] - ETA: 0s - loss: 0.0679 - accuracy: 0.7532\n",
      "Epoch 00002: val_accuracy improved from 0.72710 to 0.73835, saving model to final_cnn_checkpoint.tf\n",
      "INFO:tensorflow:Assets written to: final_cnn_checkpoint.tf\\assets\n",
      "8/8 [==============================] - 59s 7s/step - loss: 0.0679 - accuracy: 0.7532 - val_loss: 0.0678 - val_accuracy: 0.7384\n",
      "Epoch 3/15\n",
      "8/8 [==============================] - ETA: 0s - loss: 0.0664 - accuracy: 0.7538\n",
      "Epoch 00003: val_accuracy did not improve from 0.73835\n",
      "8/8 [==============================] - 46s 6s/step - loss: 0.0664 - accuracy: 0.7538 - val_loss: 0.0680 - val_accuracy: 0.7325\n",
      "Epoch 4/15\n",
      "8/8 [==============================] - ETA: 0s - loss: 0.0652 - accuracy: 0.7505\n",
      "Epoch 00004: val_accuracy did not improve from 0.73835\n",
      "8/8 [==============================] - 45s 6s/step - loss: 0.0652 - accuracy: 0.7505 - val_loss: 0.0666 - val_accuracy: 0.7379\n",
      "Epoch 5/15\n",
      "8/8 [==============================] - ETA: 0s - loss: 0.0643 - accuracy: 0.7560\n",
      "Epoch 00005: val_accuracy did not improve from 0.73835\n",
      "8/8 [==============================] - 46s 6s/step - loss: 0.0643 - accuracy: 0.7560 - val_loss: 0.0668 - val_accuracy: 0.7343\n",
      "Epoch 6/15\n",
      "8/8 [==============================] - ETA: 0s - loss: 0.0643 - accuracy: 0.7543\n",
      "Epoch 00006: val_accuracy did not improve from 0.73835\n",
      "8/8 [==============================] - 44s 6s/step - loss: 0.0643 - accuracy: 0.7543 - val_loss: 0.0668 - val_accuracy: 0.7364\n"
     ]
    },
    {
     "name": "stderr",
     "output_type": "stream",
     "text": [
      "\r",
      "  0%|                                                                                         | 0/1000 [00:00<?, ?it/s]"
     ]
    },
    {
     "name": "stdout",
     "output_type": "stream",
     "text": [
      "Epoch 00006: early stopping\n",
      "\n",
      "**********17000 -- 18000 out of 35000************\n",
      "\n"
     ]
    },
    {
     "name": "stderr",
     "output_type": "stream",
     "text": [
      "100%|█████████████████████████████████████████████████████████████████████████████| 1000/1000 [00:08<00:00, 113.05it/s]\n"
     ]
    },
    {
     "name": "stdout",
     "output_type": "stream",
     "text": [
      "Epoch 1/15\n",
      "8/8 [==============================] - ETA: 0s - loss: 0.0712 - accuracy: 0.7513\n",
      "Epoch 00001: val_accuracy improved from 0.73835 to 0.73848, saving model to final_cnn_checkpoint.tf\n",
      "INFO:tensorflow:Assets written to: final_cnn_checkpoint.tf\\assets\n",
      "8/8 [==============================] - 57s 7s/step - loss: 0.0712 - accuracy: 0.7513 - val_loss: 0.0668 - val_accuracy: 0.7385\n",
      "Epoch 2/15\n",
      "8/8 [==============================] - ETA: 0s - loss: 0.0698 - accuracy: 0.7412\n",
      "Epoch 00002: val_accuracy did not improve from 0.73848\n",
      "8/8 [==============================] - 45s 6s/step - loss: 0.0698 - accuracy: 0.7412 - val_loss: 0.0698 - val_accuracy: 0.7361\n",
      "Epoch 3/15\n",
      "8/8 [==============================] - ETA: 0s - loss: 0.0690 - accuracy: 0.7441\n",
      "Epoch 00003: val_accuracy did not improve from 0.73848\n",
      "8/8 [==============================] - 46s 6s/step - loss: 0.0690 - accuracy: 0.7441 - val_loss: 0.0658 - val_accuracy: 0.7361\n",
      "Epoch 4/15\n",
      "8/8 [==============================] - ETA: 0s - loss: 0.0662 - accuracy: 0.7451\n",
      "Epoch 00004: val_accuracy improved from 0.73848 to 0.74075, saving model to final_cnn_checkpoint.tf\n",
      "INFO:tensorflow:Assets written to: final_cnn_checkpoint.tf\\assets\n",
      "8/8 [==============================] - 57s 7s/step - loss: 0.0662 - accuracy: 0.7451 - val_loss: 0.0658 - val_accuracy: 0.7408\n",
      "Epoch 5/15\n",
      "8/8 [==============================] - ETA: 0s - loss: 0.0659 - accuracy: 0.7483\n",
      "Epoch 00005: val_accuracy did not improve from 0.74075\n",
      "8/8 [==============================] - 45s 6s/step - loss: 0.0659 - accuracy: 0.7483 - val_loss: 0.0655 - val_accuracy: 0.7374\n",
      "Epoch 6/15\n",
      "8/8 [==============================] - ETA: 0s - loss: 0.0670 - accuracy: 0.7447\n",
      "Epoch 00006: val_accuracy improved from 0.74075 to 0.74338, saving model to final_cnn_checkpoint.tf\n",
      "INFO:tensorflow:Assets written to: final_cnn_checkpoint.tf\\assets\n",
      "8/8 [==============================] - 57s 7s/step - loss: 0.0670 - accuracy: 0.7447 - val_loss: 0.0663 - val_accuracy: 0.7434\n",
      "Epoch 7/15\n",
      "8/8 [==============================] - ETA: 0s - loss: 0.0673 - accuracy: 0.7507\n",
      "Epoch 00007: val_accuracy did not improve from 0.74338\n",
      "8/8 [==============================] - 45s 6s/step - loss: 0.0673 - accuracy: 0.7507 - val_loss: 0.0667 - val_accuracy: 0.7415\n"
     ]
    },
    {
     "name": "stderr",
     "output_type": "stream",
     "text": [
      "\r",
      "  0%|                                                                                         | 0/1000 [00:00<?, ?it/s]"
     ]
    },
    {
     "name": "stdout",
     "output_type": "stream",
     "text": [
      "Epoch 00007: early stopping\n",
      "\n",
      "**********18000 -- 19000 out of 35000************\n",
      "\n"
     ]
    },
    {
     "name": "stderr",
     "output_type": "stream",
     "text": [
      "100%|█████████████████████████████████████████████████████████████████████████████| 1000/1000 [00:06<00:00, 145.40it/s]\n"
     ]
    },
    {
     "name": "stdout",
     "output_type": "stream",
     "text": [
      "Epoch 1/15\n",
      "8/8 [==============================] - ETA: 0s - loss: 0.0705 - accuracy: 0.7490\n",
      "Epoch 00001: val_accuracy improved from 0.74338 to 0.75986, saving model to final_cnn_checkpoint.tf\n",
      "INFO:tensorflow:Assets written to: final_cnn_checkpoint.tf\\assets\n",
      "8/8 [==============================] - 61s 8s/step - loss: 0.0705 - accuracy: 0.7490 - val_loss: 0.0706 - val_accuracy: 0.7599\n",
      "Epoch 2/15\n",
      "8/8 [==============================] - ETA: 0s - loss: 0.0691 - accuracy: 0.7508\n",
      "Epoch 00002: val_accuracy did not improve from 0.75986\n",
      "8/8 [==============================] - 46s 6s/step - loss: 0.0691 - accuracy: 0.7508 - val_loss: 0.0696 - val_accuracy: 0.7592\n",
      "Epoch 3/15\n",
      "8/8 [==============================] - ETA: 0s - loss: 0.0669 - accuracy: 0.7466\n",
      "Epoch 00003: val_accuracy did not improve from 0.75986\n",
      "8/8 [==============================] - 44s 6s/step - loss: 0.0669 - accuracy: 0.7466 - val_loss: 0.0698 - val_accuracy: 0.7534\n",
      "Epoch 4/15\n",
      "8/8 [==============================] - ETA: 0s - loss: 0.0657 - accuracy: 0.7469\n",
      "Epoch 00004: val_accuracy did not improve from 0.75986\n",
      "8/8 [==============================] - 46s 6s/step - loss: 0.0657 - accuracy: 0.7469 - val_loss: 0.0674 - val_accuracy: 0.7598\n",
      "Epoch 5/15\n",
      "8/8 [==============================] - ETA: 0s - loss: 0.0651 - accuracy: 0.7500\n",
      "Epoch 00005: val_accuracy did not improve from 0.75986\n",
      "8/8 [==============================] - 46s 6s/step - loss: 0.0651 - accuracy: 0.7500 - val_loss: 0.0675 - val_accuracy: 0.7575\n",
      "Epoch 6/15\n",
      "8/8 [==============================] - ETA: 0s - loss: 0.0654 - accuracy: 0.7497\n",
      "Epoch 00006: val_accuracy improved from 0.75986 to 0.76009, saving model to final_cnn_checkpoint.tf\n",
      "INFO:tensorflow:Assets written to: final_cnn_checkpoint.tf\\assets\n",
      "8/8 [==============================] - 57s 7s/step - loss: 0.0654 - accuracy: 0.7497 - val_loss: 0.0676 - val_accuracy: 0.7601\n",
      "Epoch 00006: early stopping\n",
      "\n",
      "**********19000 -- 20000 out of 35000************\n",
      "\n"
     ]
    },
    {
     "name": "stderr",
     "output_type": "stream",
     "text": [
      "100%|██████████████████████████████████████████████████████████████████████████████| 1000/1000 [00:12<00:00, 80.95it/s]\n"
     ]
    },
    {
     "name": "stdout",
     "output_type": "stream",
     "text": [
      "Epoch 1/15\n",
      "8/8 [==============================] - ETA: 0s - loss: 0.0679 - accuracy: 0.7448\n",
      "Epoch 00001: val_accuracy did not improve from 0.76009\n",
      "8/8 [==============================] - 63s 8s/step - loss: 0.0679 - accuracy: 0.7448 - val_loss: 0.0705 - val_accuracy: 0.7500\n",
      "Epoch 2/15\n",
      "8/8 [==============================] - ETA: 0s - loss: 0.0665 - accuracy: 0.7443\n",
      "Epoch 00002: val_accuracy did not improve from 0.76009\n",
      "8/8 [==============================] - 45s 6s/step - loss: 0.0665 - accuracy: 0.7443 - val_loss: 0.0705 - val_accuracy: 0.7492\n",
      "Epoch 3/15\n",
      "8/8 [==============================] - ETA: 0s - loss: 0.0661 - accuracy: 0.7408\n",
      "Epoch 00003: val_accuracy did not improve from 0.76009\n",
      "8/8 [==============================] - 46s 6s/step - loss: 0.0661 - accuracy: 0.7408 - val_loss: 0.0680 - val_accuracy: 0.7487\n",
      "Epoch 4/15\n",
      "8/8 [==============================] - ETA: 0s - loss: 0.0654 - accuracy: 0.7442\n",
      "Epoch 00004: val_accuracy did not improve from 0.76009\n",
      "8/8 [==============================] - 45s 6s/step - loss: 0.0654 - accuracy: 0.7442 - val_loss: 0.0668 - val_accuracy: 0.7490\n",
      "Epoch 5/15\n",
      "8/8 [==============================] - ETA: 0s - loss: 0.0649 - accuracy: 0.7438\n",
      "Epoch 00005: val_accuracy did not improve from 0.76009\n",
      "8/8 [==============================] - 45s 6s/step - loss: 0.0649 - accuracy: 0.7438 - val_loss: 0.0667 - val_accuracy: 0.7507\n",
      "Epoch 6/15\n",
      "8/8 [==============================] - ETA: 0s - loss: 0.0649 - accuracy: 0.7450\n",
      "Epoch 00006: val_accuracy did not improve from 0.76009\n",
      "8/8 [==============================] - 45s 6s/step - loss: 0.0649 - accuracy: 0.7450 - val_loss: 0.0671 - val_accuracy: 0.7497\n",
      "Epoch 7/15\n",
      "8/8 [==============================] - ETA: 0s - loss: 0.0650 - accuracy: 0.7445\n",
      "Epoch 00007: val_accuracy did not improve from 0.76009\n",
      "8/8 [==============================] - 47s 6s/step - loss: 0.0650 - accuracy: 0.7445 - val_loss: 0.0675 - val_accuracy: 0.7512\n",
      "Epoch 00007: early stopping\n",
      "\n",
      "**********20000 -- 21000 out of 35000************\n",
      "\n"
     ]
    },
    {
     "name": "stderr",
     "output_type": "stream",
     "text": [
      "100%|██████████████████████████████████████████████████████████████████████████████| 1000/1000 [01:14<00:00, 13.42it/s]\n"
     ]
    },
    {
     "name": "stdout",
     "output_type": "stream",
     "text": [
      "Epoch 1/15\n",
      "8/8 [==============================] - ETA: 0s - loss: 0.0681 - accuracy: 0.7652\n",
      "Epoch 00001: val_accuracy did not improve from 0.76009\n",
      "8/8 [==============================] - 47s 6s/step - loss: 0.0681 - accuracy: 0.7652 - val_loss: 0.0665 - val_accuracy: 0.7443\n",
      "Epoch 2/15\n",
      "8/8 [==============================] - ETA: 0s - loss: 0.0658 - accuracy: 0.7530\n",
      "Epoch 00002: val_accuracy improved from 0.76009 to 0.76787, saving model to final_cnn_checkpoint.tf\n",
      "INFO:tensorflow:Assets written to: final_cnn_checkpoint.tf\\assets\n",
      "8/8 [==============================] - 71s 9s/step - loss: 0.0658 - accuracy: 0.7530 - val_loss: 0.0663 - val_accuracy: 0.7679\n",
      "Epoch 3/15\n",
      "8/8 [==============================] - ETA: 0s - loss: 0.0653 - accuracy: 0.7600\n",
      "Epoch 00003: val_accuracy did not improve from 0.76787\n",
      "8/8 [==============================] - 46s 6s/step - loss: 0.0653 - accuracy: 0.7600 - val_loss: 0.0665 - val_accuracy: 0.7521\n",
      "Epoch 4/15\n",
      "8/8 [==============================] - ETA: 0s - loss: 0.0654 - accuracy: 0.7605\n",
      "Epoch 00004: val_accuracy did not improve from 0.76787\n",
      "8/8 [==============================] - 46s 6s/step - loss: 0.0654 - accuracy: 0.7605 - val_loss: 0.0671 - val_accuracy: 0.7661\n",
      "Epoch 00004: early stopping\n",
      "\n",
      "**********21000 -- 22000 out of 35000************\n",
      "\n"
     ]
    },
    {
     "name": "stderr",
     "output_type": "stream",
     "text": [
      "100%|██████████████████████████████████████████████████████████████████████████████| 1000/1000 [00:17<00:00, 57.03it/s]\n"
     ]
    },
    {
     "name": "stdout",
     "output_type": "stream",
     "text": [
      "Epoch 1/15\n",
      "8/8 [==============================] - ETA: 0s - loss: 0.0659 - accuracy: 0.7180\n",
      "Epoch 00001: val_accuracy improved from 0.76787 to 0.77238, saving model to final_cnn_checkpoint.tf\n",
      "INFO:tensorflow:Assets written to: final_cnn_checkpoint.tf\\assets\n",
      "8/8 [==============================] - 81s 10s/step - loss: 0.0659 - accuracy: 0.7180 - val_loss: 0.0649 - val_accuracy: 0.7724\n",
      "Epoch 2/15\n",
      "8/8 [==============================] - ETA: 0s - loss: 0.0666 - accuracy: 0.7144\n",
      "Epoch 00002: val_accuracy improved from 0.77238 to 0.77659, saving model to final_cnn_checkpoint.tf\n",
      "INFO:tensorflow:Assets written to: final_cnn_checkpoint.tf\\assets\n",
      "8/8 [==============================] - 97s 12s/step - loss: 0.0666 - accuracy: 0.7144 - val_loss: 0.0643 - val_accuracy: 0.7766\n",
      "Epoch 3/15\n",
      "8/8 [==============================] - ETA: 0s - loss: 0.0662 - accuracy: 0.7547\n",
      "Epoch 00003: val_accuracy did not improve from 0.77659\n",
      "8/8 [==============================] - 46s 6s/step - loss: 0.0662 - accuracy: 0.7547 - val_loss: 0.0642 - val_accuracy: 0.7662\n",
      "Epoch 4/15\n",
      "8/8 [==============================] - ETA: 0s - loss: 0.0664 - accuracy: 0.7398\n",
      "Epoch 00004: val_accuracy did not improve from 0.77659\n",
      "8/8 [==============================] - 46s 6s/step - loss: 0.0664 - accuracy: 0.7398 - val_loss: 0.0643 - val_accuracy: 0.7751\n",
      "Epoch 5/15\n",
      "8/8 [==============================] - ETA: 0s - loss: 0.0664 - accuracy: 0.7540\n",
      "Epoch 00005: val_accuracy did not improve from 0.77659\n",
      "8/8 [==============================] - 48s 6s/step - loss: 0.0664 - accuracy: 0.7540 - val_loss: 0.0650 - val_accuracy: 0.7730\n",
      "Epoch 00005: early stopping\n",
      "\n",
      "**********22000 -- 23000 out of 35000************\n",
      "\n"
     ]
    },
    {
     "name": "stderr",
     "output_type": "stream",
     "text": [
      "100%|██████████████████████████████████████████████████████████████████████████████| 1000/1000 [02:08<00:00,  7.76it/s]\n"
     ]
    },
    {
     "name": "stdout",
     "output_type": "stream",
     "text": [
      "Epoch 1/15\n",
      "8/8 [==============================] - ETA: 0s - loss: 0.0677 - accuracy: 0.7530\n",
      "Epoch 00001: val_accuracy did not improve from 0.77659\n",
      "8/8 [==============================] - 44s 5s/step - loss: 0.0677 - accuracy: 0.7530 - val_loss: 0.0726 - val_accuracy: 0.7362\n",
      "Epoch 2/15\n",
      "8/8 [==============================] - ETA: 0s - loss: 0.0670 - accuracy: 0.7589\n",
      "Epoch 00007: val_accuracy did not improve from 0.77659\n",
      "8/8 [==============================] - 41s 5s/step - loss: 0.0653 - accuracy: 0.7569 - val_loss: 0.0684 - val_accuracy: 0.7346\n",
      "Epoch 8/15\n",
      "8/8 [==============================] - ETA: 0s - loss: 0.0660 - accuracy: 0.7575\n",
      "Epoch 00008: val_accuracy did not improve from 0.77659\n",
      "8/8 [==============================] - 41s 5s/step - loss: 0.0660 - accuracy: 0.7575 - val_loss: 0.0685 - val_accuracy: 0.7349\n",
      "Epoch 00008: early stopping\n",
      "\n",
      "**********23000 -- 24000 out of 35000************\n",
      "\n"
     ]
    },
    {
     "name": "stderr",
     "output_type": "stream",
     "text": [
      "100%|██████████████████████████████████████████████████████████████████████████████| 1000/1000 [00:22<00:00, 44.06it/s]\n"
     ]
    },
    {
     "name": "stdout",
     "output_type": "stream",
     "text": [
      "Epoch 1/15\n",
      "8/8 [==============================] - ETA: 0s - loss: 0.0670 - accuracy: 0.7184\n",
      "Epoch 00001: val_accuracy did not improve from 0.77659\n",
      "8/8 [==============================] - 39s 5s/step - loss: 0.0670 - accuracy: 0.7184 - val_loss: 0.0677 - val_accuracy: 0.7661\n",
      "Epoch 2/15\n",
      "8/8 [==============================] - ETA: 0s - loss: 0.0662 - accuracy: 0.7462\n",
      "Epoch 00002: val_accuracy did not improve from 0.77659\n",
      "8/8 [==============================] - 40s 5s/step - loss: 0.0662 - accuracy: 0.7462 - val_loss: 0.0680 - val_accuracy: 0.6889\n",
      "Epoch 3/15\n",
      "8/8 [==============================] - ETA: 0s - loss: 0.0662 - accuracy: 0.7227\n",
      "Epoch 00003: val_accuracy did not improve from 0.77659\n",
      "8/8 [==============================] - 40s 5s/step - loss: 0.0662 - accuracy: 0.7227 - val_loss: 0.0694 - val_accuracy: 0.7658\n",
      "Epoch 00003: early stopping\n",
      "\n",
      "**********24000 -- 25000 out of 35000************\n",
      "\n"
     ]
    },
    {
     "name": "stderr",
     "output_type": "stream",
     "text": [
      "100%|██████████████████████████████████████████████████████████████████████████████| 1000/1000 [00:14<00:00, 69.76it/s]\n"
     ]
    },
    {
     "name": "stdout",
     "output_type": "stream",
     "text": [
      "Epoch 1/15\n",
      "8/8 [==============================] - ETA: 0s - loss: 0.0656 - accuracy: 0.7237\n",
      "Epoch 00001: val_accuracy did not improve from 0.77659\n",
      "8/8 [==============================] - 41s 5s/step - loss: 0.0656 - accuracy: 0.7237 - val_loss: 0.0659 - val_accuracy: 0.7675\n",
      "Epoch 2/15\n",
      "8/8 [==============================] - ETA: 0s - loss: 0.0651 - accuracy: 0.7522\n",
      "Epoch 00002: val_accuracy did not improve from 0.77659\n",
      "8/8 [==============================] - 42s 5s/step - loss: 0.0651 - accuracy: 0.7522 - val_loss: 0.0669 - val_accuracy: 0.7175\n",
      "Epoch 3/15\n",
      "8/8 [==============================] - ETA: 0s - loss: 0.0652 - accuracy: 0.7579\n",
      "Epoch 00003: val_accuracy did not improve from 0.77659\n",
      "8/8 [==============================] - 42s 5s/step - loss: 0.0652 - accuracy: 0.7579 - val_loss: 0.0684 - val_accuracy: 0.7659\n",
      "Epoch 00003: early stopping\n",
      "\n",
      "**********25000 -- 26000 out of 35000************\n",
      "\n"
     ]
    },
    {
     "name": "stderr",
     "output_type": "stream",
     "text": [
      "100%|██████████████████████████████████████████████████████████████████████████████| 1000/1000 [00:30<00:00, 32.75it/s]\n"
     ]
    },
    {
     "name": "stdout",
     "output_type": "stream",
     "text": [
      "Epoch 1/15\n",
      "8/8 [==============================] - ETA: 0s - loss: 0.0659 - accuracy: 0.7284\n",
      "Epoch 00001: val_accuracy did not improve from 0.77659\n",
      "8/8 [==============================] - 48s 6s/step - loss: 0.0659 - accuracy: 0.7284 - val_loss: 0.0649 - val_accuracy: 0.7618\n",
      "Epoch 2/15\n",
      "8/8 [==============================] - ETA: 0s - loss: 0.0648 - accuracy: 0.7387\n",
      "Epoch 00002: val_accuracy did not improve from 0.77659\n",
      "8/8 [==============================] - 43s 5s/step - loss: 0.0648 - accuracy: 0.7387 - val_loss: 0.0663 - val_accuracy: 0.7605\n",
      "Epoch 3/15\n",
      "8/8 [==============================] - ETA: 0s - loss: 0.0652 - accuracy: 0.7465\n",
      "Epoch 00003: val_accuracy did not improve from 0.77659\n",
      "8/8 [==============================] - 42s 5s/step - loss: 0.0652 - accuracy: 0.7465 - val_loss: 0.0672 - val_accuracy: 0.7432\n",
      "Epoch 00003: early stopping\n",
      "\n",
      "**********26000 -- 27000 out of 35000************\n",
      "\n"
     ]
    },
    {
     "name": "stderr",
     "output_type": "stream",
     "text": [
      "100%|██████████████████████████████████████████████████████████████████████████████| 1000/1000 [01:18<00:00, 12.72it/s]\n"
     ]
    },
    {
     "name": "stdout",
     "output_type": "stream",
     "text": [
      "Epoch 1/15\n",
      "8/8 [==============================] - ETA: 0s - loss: 0.0686 - accuracy: 0.7412\n",
      "Epoch 00001: val_accuracy did not improve from 0.77659\n",
      "8/8 [==============================] - 38s 5s/step - loss: 0.0686 - accuracy: 0.7412 - val_loss: 0.0691 - val_accuracy: 0.7453\n",
      "Epoch 2/15\n",
      "8/8 [==============================] - ETA: 0s - loss: 0.0666 - accuracy: 0.7422\n",
      "Epoch 00002: val_accuracy did not improve from 0.77659\n",
      "8/8 [==============================] - 40s 5s/step - loss: 0.0666 - accuracy: 0.7422 - val_loss: 0.0664 - val_accuracy: 0.7429\n",
      "Epoch 3/15\n",
      "8/8 [==============================] - ETA: 0s - loss: 0.0661 - accuracy: 0.7322\n",
      "Epoch 00003: val_accuracy did not improve from 0.77659\n",
      "8/8 [==============================] - 41s 5s/step - loss: 0.0661 - accuracy: 0.7322 - val_loss: 0.0654 - val_accuracy: 0.7525\n",
      "Epoch 4/15\n",
      "8/8 [==============================] - ETA: 0s - loss: 0.0660 - accuracy: 0.7454\n",
      "Epoch 00004: val_accuracy did not improve from 0.77659\n",
      "8/8 [==============================] - 43s 5s/step - loss: 0.0660 - accuracy: 0.7454 - val_loss: 0.0655 - val_accuracy: 0.7474\n",
      "Epoch 5/15\n",
      "8/8 [==============================] - ETA: 0s - loss: 0.0659 - accuracy: 0.7417\n",
      "Epoch 00005: val_accuracy did not improve from 0.77659\n",
      "8/8 [==============================] - 45s 6s/step - loss: 0.0659 - accuracy: 0.7417 - val_loss: 0.0656 - val_accuracy: 0.7497\n",
      "Epoch 00005: early stopping\n",
      "\n",
      "**********27000 -- 28000 out of 35000************\n",
      "\n"
     ]
    },
    {
     "name": "stderr",
     "output_type": "stream",
     "text": [
      "100%|██████████████████████████████████████████████████████████████████████████████| 1000/1000 [01:05<00:00, 15.25it/s]\n"
     ]
    },
    {
     "name": "stdout",
     "output_type": "stream",
     "text": [
      "Epoch 1/15\n",
      "8/8 [==============================] - ETA: 0s - loss: 0.0686 - accuracy: 0.7473\n",
      "Epoch 00001: val_accuracy did not improve from 0.77659\n",
      "8/8 [==============================] - 104s 13s/step - loss: 0.0686 - accuracy: 0.7473 - val_loss: 0.0710 - val_accuracy: 0.7600\n",
      "Epoch 2/15\n",
      "8/8 [==============================] - ETA: 0s - loss: 0.0663 - accuracy: 0.7543\n",
      "Epoch 00002: val_accuracy did not improve from 0.77659\n",
      "8/8 [==============================] - 44s 6s/step - loss: 0.0663 - accuracy: 0.7543 - val_loss: 0.0649 - val_accuracy: 0.7544\n",
      "Epoch 3/15\n",
      "8/8 [==============================] - ETA: 0s - loss: 0.0637 - accuracy: 0.7473\n",
      "Epoch 00003: val_accuracy did not improve from 0.77659\n",
      "8/8 [==============================] - 44s 6s/step - loss: 0.0637 - accuracy: 0.7473 - val_loss: 0.0648 - val_accuracy: 0.7524\n",
      "Epoch 4/15\n",
      "8/8 [==============================] - ETA: 0s - loss: 0.0632 - accuracy: 0.7502\n",
      "Epoch 00004: val_accuracy did not improve from 0.77659\n",
      "8/8 [==============================] - 46s 6s/step - loss: 0.0632 - accuracy: 0.7502 - val_loss: 0.0646 - val_accuracy: 0.7571\n",
      "Epoch 5/15\n",
      "8/8 [==============================] - ETA: 0s - loss: 0.0633 - accuracy: 0.7521\n",
      "Epoch 00005: val_accuracy did not improve from 0.77659\n",
      "8/8 [==============================] - 41s 5s/step - loss: 0.0633 - accuracy: 0.7521 - val_loss: 0.0647 - val_accuracy: 0.7590\n",
      "Epoch 6/15\n",
      "8/8 [==============================] - ETA: 0s - loss: 0.0631 - accuracy: 0.7535\n",
      "Epoch 00006: val_accuracy did not improve from 0.77659\n",
      "8/8 [==============================] - 43s 5s/step - loss: 0.0631 - accuracy: 0.7535 - val_loss: 0.0641 - val_accuracy: 0.7572\n",
      "Epoch 7/15\n",
      "8/8 [==============================] - ETA: 0s - loss: 0.0628 - accuracy: 0.7515\n",
      "Epoch 00007: val_accuracy did not improve from 0.77659\n",
      "8/8 [==============================] - 43s 5s/step - loss: 0.0628 - accuracy: 0.7515 - val_loss: 0.0640 - val_accuracy: 0.7571\n",
      "Epoch 8/15\n",
      "8/8 [==============================] - ETA: 0s - loss: 0.0627 - accuracy: 0.7525\n",
      "Epoch 00008: val_accuracy did not improve from 0.77659\n",
      "8/8 [==============================] - 41s 5s/step - loss: 0.0627 - accuracy: 0.7525 - val_loss: 0.0640 - val_accuracy: 0.7570\n",
      "Epoch 9/15\n",
      "8/8 [==============================] - ETA: 0s - loss: 0.0628 - accuracy: 0.7518\n",
      "Epoch 00009: val_accuracy did not improve from 0.77659\n",
      "8/8 [==============================] - 42s 5s/step - loss: 0.0628 - accuracy: 0.7518 - val_loss: 0.0643 - val_accuracy: 0.7579\n",
      "Epoch 00009: early stopping\n",
      "\n",
      "**********28000 -- 29000 out of 35000************\n",
      "\n"
     ]
    },
    {
     "name": "stderr",
     "output_type": "stream",
     "text": [
      "100%|█████████████████████████████████████████████████████████████████████████████| 1000/1000 [00:08<00:00, 120.92it/s]\n"
     ]
    },
    {
     "name": "stdout",
     "output_type": "stream",
     "text": [
      "Epoch 1/15\n",
      "8/8 [==============================] - ETA: 0s - loss: 0.0648 - accuracy: 0.7167\n",
      "Epoch 00001: val_accuracy did not improve from 0.77659\n",
      "8/8 [==============================] - 39s 5s/step - loss: 0.0648 - accuracy: 0.7167 - val_loss: 0.0653 - val_accuracy: 0.7657\n",
      "Epoch 2/15\n",
      "8/8 [==============================] - ETA: 0s - loss: 0.0643 - accuracy: 0.7245\n",
      "Epoch 00002: val_accuracy did not improve from 0.77659\n",
      "8/8 [==============================] - 41s 5s/step - loss: 0.0643 - accuracy: 0.7245 - val_loss: 0.0653 - val_accuracy: 0.7665\n",
      "Epoch 3/15\n",
      "8/8 [==============================] - ETA: 0s - loss: 0.0636 - accuracy: 0.7381\n",
      "Epoch 00003: val_accuracy did not improve from 0.77659\n",
      "8/8 [==============================] - 41s 5s/step - loss: 0.0636 - accuracy: 0.7381 - val_loss: 0.0653 - val_accuracy: 0.7353\n",
      "Epoch 4/15\n",
      "8/8 [==============================] - ETA: 0s - loss: 0.0635 - accuracy: 0.7367\n",
      "Epoch 00004: val_accuracy did not improve from 0.77659\n",
      "8/8 [==============================] - 41s 5s/step - loss: 0.0635 - accuracy: 0.7367 - val_loss: 0.0652 - val_accuracy: 0.7665\n",
      "Epoch 5/15\n",
      "8/8 [==============================] - ETA: 0s - loss: 0.0635 - accuracy: 0.7360\n",
      "Epoch 00005: val_accuracy did not improve from 0.77659\n",
      "8/8 [==============================] - 42s 5s/step - loss: 0.0635 - accuracy: 0.7360 - val_loss: 0.0651 - val_accuracy: 0.7561\n",
      "Epoch 6/15\n",
      "8/8 [==============================] - ETA: 0s - loss: 0.0634 - accuracy: 0.7388\n",
      "Epoch 00006: val_accuracy did not improve from 0.77659\n",
      "8/8 [==============================] - 41s 5s/step - loss: 0.0634 - accuracy: 0.7388 - val_loss: 0.0651 - val_accuracy: 0.7545\n",
      "Epoch 7/15\n",
      "8/8 [==============================] - ETA: 0s - loss: 0.0633 - accuracy: 0.7385\n",
      "Epoch 00007: val_accuracy did not improve from 0.77659\n",
      "8/8 [==============================] - 40s 5s/step - loss: 0.0633 - accuracy: 0.7385 - val_loss: 0.0651 - val_accuracy: 0.7614\n",
      "Epoch 8/15\n",
      "8/8 [==============================] - ETA: 0s - loss: 0.0634 - accuracy: 0.7382\n",
      "Epoch 00008: val_accuracy did not improve from 0.77659\n",
      "8/8 [==============================] - 42s 5s/step - loss: 0.0634 - accuracy: 0.7382 - val_loss: 0.0651 - val_accuracy: 0.7608\n",
      "Epoch 9/15\n",
      "8/8 [==============================] - ETA: 0s - loss: 0.0633 - accuracy: 0.7386\n",
      "Epoch 00009: val_accuracy did not improve from 0.77659\n",
      "8/8 [==============================] - 41s 5s/step - loss: 0.0633 - accuracy: 0.7386 - val_loss: 0.0651 - val_accuracy: 0.7587\n",
      "Epoch 10/15\n",
      "8/8 [==============================] - ETA: 0s - loss: 0.0633 - accuracy: 0.7396\n",
      "Epoch 00010: val_accuracy did not improve from 0.77659\n",
      "8/8 [==============================] - 40s 5s/step - loss: 0.0633 - accuracy: 0.7396 - val_loss: 0.0651 - val_accuracy: 0.7610\n",
      "Epoch 11/15\n",
      "8/8 [==============================] - ETA: 0s - loss: 0.0633 - accuracy: 0.7394\n",
      "Epoch 00011: val_accuracy did not improve from 0.77659\n",
      "8/8 [==============================] - 42s 5s/step - loss: 0.0633 - accuracy: 0.7394 - val_loss: 0.0651 - val_accuracy: 0.7625\n",
      "Epoch 12/15\n",
      "8/8 [==============================] - ETA: 0s - loss: 0.0633 - accuracy: 0.7391\n",
      "Epoch 00012: val_accuracy did not improve from 0.77659\n",
      "8/8 [==============================] - 40s 5s/step - loss: 0.0633 - accuracy: 0.7391 - val_loss: 0.0651 - val_accuracy: 0.7614\n",
      "Epoch 13/15\n",
      "8/8 [==============================] - ETA: 0s - loss: 0.0633 - accuracy: 0.7399\n",
      "Epoch 00013: val_accuracy did not improve from 0.77659\n",
      "8/8 [==============================] - 40s 5s/step - loss: 0.0633 - accuracy: 0.7399 - val_loss: 0.0651 - val_accuracy: 0.7618\n",
      "Epoch 14/15\n",
      "8/8 [==============================] - ETA: 0s - loss: 0.0632 - accuracy: 0.7399\n",
      "Epoch 00014: val_accuracy did not improve from 0.77659\n",
      "8/8 [==============================] - 41s 5s/step - loss: 0.0632 - accuracy: 0.7399 - val_loss: 0.0651 - val_accuracy: 0.7625\n",
      "Epoch 15/15\n",
      "8/8 [==============================] - ETA: 0s - loss: 0.0632 - accuracy: 0.7398\n",
      "Epoch 00015: val_accuracy did not improve from 0.77659\n",
      "8/8 [==============================] - 40s 5s/step - loss: 0.0632 - accuracy: 0.7398 - val_loss: 0.0651 - val_accuracy: 0.7627\n"
     ]
    },
    {
     "name": "stderr",
     "output_type": "stream",
     "text": [
      "\r",
      "  0%|                                                                                         | 0/1000 [00:00<?, ?it/s]"
     ]
    },
    {
     "name": "stdout",
     "output_type": "stream",
     "text": [
      "\n",
      "**********29000 -- 30000 out of 35000************\n",
      "\n"
     ]
    },
    {
     "name": "stderr",
     "output_type": "stream",
     "text": [
      "100%|█████████████████████████████████████████████████████████████████████████████| 1000/1000 [00:03<00:00, 321.51it/s]\n"
     ]
    },
    {
     "name": "stdout",
     "output_type": "stream",
     "text": [
      "Epoch 1/15\n",
      "8/8 [==============================] - ETA: 0s - loss: 0.0687 - accuracy: 0.7584\n",
      "Epoch 00001: val_accuracy did not improve from 0.77659\n",
      "8/8 [==============================] - 42s 5s/step - loss: 0.0687 - accuracy: 0.7584 - val_loss: 0.0696 - val_accuracy: 0.7567\n",
      "Epoch 2/15\n",
      "8/8 [==============================] - ETA: 0s - loss: 0.0647 - accuracy: 0.7583\n",
      "Epoch 00002: val_accuracy did not improve from 0.77659\n",
      "8/8 [==============================] - 39s 5s/step - loss: 0.0647 - accuracy: 0.7583 - val_loss: 0.0686 - val_accuracy: 0.7680\n",
      "Epoch 3/15\n",
      "8/8 [==============================] - ETA: 0s - loss: 0.0647 - accuracy: 0.7567\n",
      "Epoch 00003: val_accuracy did not improve from 0.77659\n",
      "8/8 [==============================] - 41s 5s/step - loss: 0.0647 - accuracy: 0.7567 - val_loss: 0.0688 - val_accuracy: 0.7556\n",
      "Epoch 4/15\n",
      "8/8 [==============================] - ETA: 0s - loss: 0.0648 - accuracy: 0.7546\n",
      "Epoch 00004: val_accuracy did not improve from 0.77659\n",
      "8/8 [==============================] - 39s 5s/step - loss: 0.0648 - accuracy: 0.7546 - val_loss: 0.0673 - val_accuracy: 0.7671\n",
      "Epoch 5/15\n",
      "8/8 [==============================] - ETA: 0s - loss: 0.0638 - accuracy: 0.7596\n",
      "Epoch 00005: val_accuracy did not improve from 0.77659\n",
      "8/8 [==============================] - 41s 5s/step - loss: 0.0638 - accuracy: 0.7596 - val_loss: 0.0672 - val_accuracy: 0.7626\n",
      "Epoch 6/15\n",
      "8/8 [==============================] - ETA: 0s - loss: 0.0634 - accuracy: 0.7575\n",
      "Epoch 00006: val_accuracy did not improve from 0.77659\n",
      "8/8 [==============================] - 39s 5s/step - loss: 0.0634 - accuracy: 0.7575 - val_loss: 0.0674 - val_accuracy: 0.7661\n",
      "Epoch 7/15\n",
      "8/8 [==============================] - ETA: 0s - loss: 0.0635 - accuracy: 0.7596\n",
      "Epoch 00007: val_accuracy did not improve from 0.77659\n",
      "8/8 [==============================] - 40s 5s/step - loss: 0.0635 - accuracy: 0.7596 - val_loss: 0.0679 - val_accuracy: 0.7653\n",
      "Epoch 00007: early stopping\n",
      "\n",
      "**********30000 -- 31000 out of 35000************\n",
      "\n"
     ]
    },
    {
     "name": "stderr",
     "output_type": "stream",
     "text": [
      "100%|█████████████████████████████████████████████████████████████████████████████| 1000/1000 [00:08<00:00, 115.95it/s]\n"
     ]
    },
    {
     "name": "stdout",
     "output_type": "stream",
     "text": [
      "Epoch 1/15\n",
      "8/8 [==============================] - ETA: 0s - loss: 0.0702 - accuracy: 0.7483\n",
      "Epoch 00001: val_accuracy did not improve from 0.77659\n",
      "8/8 [==============================] - 37s 5s/step - loss: 0.0702 - accuracy: 0.7483 - val_loss: 0.0671 - val_accuracy: 0.7598\n",
      "Epoch 2/15\n",
      "8/8 [==============================] - ETA: 0s - loss: 0.0679 - accuracy: 0.7536\n",
      "Epoch 00002: val_accuracy did not improve from 0.77659\n",
      "8/8 [==============================] - 40s 5s/step - loss: 0.0679 - accuracy: 0.7536 - val_loss: 0.0646 - val_accuracy: 0.7560\n",
      "Epoch 3/15\n",
      "8/8 [==============================] - ETA: 0s - loss: 0.0670 - accuracy: 0.7476\n",
      "Epoch 00003: val_accuracy did not improve from 0.77659\n",
      "8/8 [==============================] - 42s 5s/step - loss: 0.0670 - accuracy: 0.7476 - val_loss: 0.0639 - val_accuracy: 0.7653\n",
      "Epoch 4/15\n",
      "8/8 [==============================] - ETA: 0s - loss: 0.0661 - accuracy: 0.7538\n",
      "Epoch 00004: val_accuracy did not improve from 0.77659\n",
      "8/8 [==============================] - 41s 5s/step - loss: 0.0661 - accuracy: 0.7538 - val_loss: 0.0638 - val_accuracy: 0.7584\n",
      "Epoch 5/15\n",
      "8/8 [==============================] - ETA: 0s - loss: 0.0659 - accuracy: 0.7491\n",
      "Epoch 00005: val_accuracy did not improve from 0.77659\n",
      "8/8 [==============================] - 41s 5s/step - loss: 0.0659 - accuracy: 0.7491 - val_loss: 0.0640 - val_accuracy: 0.7631\n",
      "Epoch 6/15\n",
      "8/8 [==============================] - ETA: 0s - loss: 0.0661 - accuracy: 0.7539\n",
      "Epoch 00006: val_accuracy did not improve from 0.77659\n",
      "8/8 [==============================] - 41s 5s/step - loss: 0.0661 - accuracy: 0.7539 - val_loss: 0.0645 - val_accuracy: 0.7625\n"
     ]
    },
    {
     "name": "stderr",
     "output_type": "stream",
     "text": [
      "  0%|                                                                                 | 1/1000 [00:00<01:50,  9.05it/s]"
     ]
    },
    {
     "name": "stdout",
     "output_type": "stream",
     "text": [
      "Epoch 00006: early stopping\n",
      "\n",
      "**********31000 -- 32000 out of 35000************\n",
      "\n"
     ]
    },
    {
     "name": "stderr",
     "output_type": "stream",
     "text": [
      "100%|█████████████████████████████████████████████████████████████████████████████| 1000/1000 [00:09<00:00, 103.08it/s]\n"
     ]
    },
    {
     "name": "stdout",
     "output_type": "stream",
     "text": [
      "Epoch 1/15\n",
      "8/8 [==============================] - ETA: 0s - loss: 0.0671 - accuracy: 0.7224\n",
      "Epoch 00001: val_accuracy did not improve from 0.77659\n",
      "8/8 [==============================] - 75s 9s/step - loss: 0.0671 - accuracy: 0.7224 - val_loss: 0.0660 - val_accuracy: 0.7500\n",
      "Epoch 2/15\n",
      "8/8 [==============================] - ETA: 0s - loss: 0.0651 - accuracy: 0.7457\n",
      "Epoch 00002: val_accuracy did not improve from 0.77659\n",
      "8/8 [==============================] - 40s 5s/step - loss: 0.0651 - accuracy: 0.7457 - val_loss: 0.0662 - val_accuracy: 0.7102\n",
      "Epoch 3/15\n",
      "8/8 [==============================] - ETA: 0s - loss: 0.0652 - accuracy: 0.7553\n",
      "Epoch 00003: val_accuracy did not improve from 0.77659\n",
      "8/8 [==============================] - 42s 5s/step - loss: 0.0652 - accuracy: 0.7553 - val_loss: 0.0681 - val_accuracy: 0.7489\n",
      "Epoch 00003: early stopping\n",
      "\n",
      "**********32000 -- 33000 out of 35000************\n",
      "\n"
     ]
    },
    {
     "name": "stderr",
     "output_type": "stream",
     "text": [
      "100%|█████████████████████████████████████████████████████████████████████████████| 1000/1000 [00:07<00:00, 135.32it/s]\n"
     ]
    },
    {
     "name": "stdout",
     "output_type": "stream",
     "text": [
      "Epoch 1/15\n",
      "8/8 [==============================] - ETA: 0s - loss: 0.0696 - accuracy: 0.7563\n",
      "Epoch 00001: val_accuracy did not improve from 0.77659\n",
      "8/8 [==============================] - 48s 6s/step - loss: 0.0696 - accuracy: 0.7563 - val_loss: 0.0673 - val_accuracy: 0.7581\n",
      "Epoch 2/15\n",
      "8/8 [==============================] - ETA: 0s - loss: 0.0671 - accuracy: 0.7584\n",
      "Epoch 00002: val_accuracy did not improve from 0.77659\n",
      "8/8 [==============================] - 44s 6s/step - loss: 0.0671 - accuracy: 0.7584 - val_loss: 0.0646 - val_accuracy: 0.7574\n",
      "Epoch 3/15\n",
      "8/8 [==============================] - ETA: 0s - loss: 0.0667 - accuracy: 0.7565\n",
      "Epoch 00003: val_accuracy did not improve from 0.77659\n",
      "8/8 [==============================] - 42s 5s/step - loss: 0.0667 - accuracy: 0.7565 - val_loss: 0.0645 - val_accuracy: 0.7601\n",
      "Epoch 4/15\n",
      "8/8 [==============================] - ETA: 0s - loss: 0.0662 - accuracy: 0.7582\n",
      "Epoch 00004: val_accuracy did not improve from 0.77659\n",
      "8/8 [==============================] - 40s 5s/step - loss: 0.0662 - accuracy: 0.7582 - val_loss: 0.0649 - val_accuracy: 0.7577\n",
      "Epoch 5/15\n",
      "8/8 [==============================] - ETA: 0s - loss: 0.0658 - accuracy: 0.7572\n",
      "Epoch 00005: val_accuracy did not improve from 0.77659\n",
      "8/8 [==============================] - 42s 5s/step - loss: 0.0658 - accuracy: 0.7572 - val_loss: 0.0648 - val_accuracy: 0.7592\n",
      "Epoch 00005: early stopping\n",
      "\n",
      "**********33000 -- 34000 out of 35000************\n",
      "\n"
     ]
    },
    {
     "name": "stderr",
     "output_type": "stream",
     "text": [
      "100%|██████████████████████████████████████████████████████████████████████████████| 1000/1000 [00:10<00:00, 91.53it/s]\n"
     ]
    },
    {
     "name": "stdout",
     "output_type": "stream",
     "text": [
      "Epoch 1/15\n",
      "8/8 [==============================] - ETA: 0s - loss: 0.0685 - accuracy: 0.7491\n",
      "Epoch 00001: val_accuracy did not improve from 0.77659\n",
      "8/8 [==============================] - 40s 5s/step - loss: 0.0685 - accuracy: 0.7491 - val_loss: 0.0745 - val_accuracy: 0.7598\n",
      "Epoch 2/15\n",
      "8/8 [==============================] - ETA: 0s - loss: 0.0687 - accuracy: 0.7590\n",
      "Epoch 00002: val_accuracy did not improve from 0.77659\n",
      "8/8 [==============================] - 42s 5s/step - loss: 0.0687 - accuracy: 0.7590 - val_loss: 0.0681 - val_accuracy: 0.7476\n",
      "Epoch 3/15\n",
      "8/8 [==============================] - ETA: 0s - loss: 0.0687 - accuracy: 0.7507\n",
      "Epoch 00003: val_accuracy did not improve from 0.77659\n",
      "8/8 [==============================] - 42s 5s/step - loss: 0.0687 - accuracy: 0.7507 - val_loss: 0.0684 - val_accuracy: 0.7617\n",
      "Epoch 4/15\n",
      "8/8 [==============================] - ETA: 0s - loss: 0.0663 - accuracy: 0.7613\n",
      "Epoch 00004: val_accuracy did not improve from 0.77659\n",
      "8/8 [==============================] - 42s 5s/step - loss: 0.0663 - accuracy: 0.7613 - val_loss: 0.0671 - val_accuracy: 0.7581\n",
      "Epoch 5/15\n",
      "8/8 [==============================] - ETA: 0s - loss: 0.0651 - accuracy: 0.7534\n",
      "Epoch 00005: val_accuracy did not improve from 0.77659\n",
      "8/8 [==============================] - 42s 5s/step - loss: 0.0651 - accuracy: 0.7534 - val_loss: 0.0675 - val_accuracy: 0.7556\n",
      "Epoch 6/15\n",
      "8/8 [==============================] - ETA: 0s - loss: 0.0655 - accuracy: 0.7570\n",
      "Epoch 00006: val_accuracy did not improve from 0.77659\n",
      "8/8 [==============================] - 44s 6s/step - loss: 0.0655 - accuracy: 0.7570 - val_loss: 0.0675 - val_accuracy: 0.7598\n",
      "Epoch 00006: early stopping\n",
      "\n",
      "**********34000 -- 35000 out of 35000************\n",
      "\n"
     ]
    },
    {
     "name": "stderr",
     "output_type": "stream",
     "text": [
      "100%|██████████████████████████████████████████████████████████████████████████████| 1000/1000 [00:10<00:00, 91.19it/s]\n"
     ]
    },
    {
     "name": "stdout",
     "output_type": "stream",
     "text": [
      "Epoch 1/15\n",
      "8/8 [==============================] - ETA: 0s - loss: 0.0665 - accuracy: 0.7187\n",
      "Epoch 00001: val_accuracy did not improve from 0.77659\n",
      "8/8 [==============================] - 66s 8s/step - loss: 0.0665 - accuracy: 0.7187 - val_loss: 0.0663 - val_accuracy: 0.7606\n",
      "Epoch 2/15\n",
      "8/8 [==============================] - ETA: 0s - loss: 0.0650 - accuracy: 0.7428\n",
      "Epoch 00002: val_accuracy did not improve from 0.77659\n",
      "8/8 [==============================] - 40s 5s/step - loss: 0.0650 - accuracy: 0.7428 - val_loss: 0.0658 - val_accuracy: 0.7428\n",
      "Epoch 3/15\n",
      "8/8 [==============================] - ETA: 0s - loss: 0.0648 - accuracy: 0.7470\n",
      "Epoch 00003: val_accuracy did not improve from 0.77659\n",
      "8/8 [==============================] - 43s 5s/step - loss: 0.0648 - accuracy: 0.7470 - val_loss: 0.0658 - val_accuracy: 0.7530\n",
      "Epoch 4/15\n",
      "8/8 [==============================] - ETA: 0s - loss: 0.0646 - accuracy: 0.7522\n",
      "Epoch 00004: val_accuracy did not improve from 0.77659\n",
      "8/8 [==============================] - 41s 5s/step - loss: 0.0646 - accuracy: 0.7522 - val_loss: 0.0657 - val_accuracy: 0.7573\n",
      "Epoch 5/15\n",
      "8/8 [==============================] - ETA: 0s - loss: 0.0645 - accuracy: 0.7464\n",
      "Epoch 00005: val_accuracy did not improve from 0.77659\n",
      "8/8 [==============================] - 42s 5s/step - loss: 0.0645 - accuracy: 0.7464 - val_loss: 0.0658 - val_accuracy: 0.7503\n",
      "Epoch 6/15\n",
      "8/8 [==============================] - ETA: 0s - loss: 0.0645 - accuracy: 0.7524\n",
      "Epoch 00006: val_accuracy did not improve from 0.77659\n",
      "8/8 [==============================] - 43s 5s/step - loss: 0.0645 - accuracy: 0.7524 - val_loss: 0.0657 - val_accuracy: 0.7575\n",
      "Epoch 00006: early stopping\n"
     ]
    }
   ],
   "source": [
    "training(\n",
    "    start_row = 16000,\n",
    "    number_of_labels = 6,\n",
    "    file_path = 'main_dataset1.csv',\n",
    "    image_per_batch = 1000,\n",
    "    max_limit = 35000,\n",
    "    path_of_model = 'final_cnn_checkpoint.tf'\n",
    ")"
   ]
  },
  {
   "cell_type": "markdown",
   "metadata": {},
   "source": []
  },
  {
   "cell_type": "code",
   "execution_count": 8,
   "metadata": {},
   "outputs": [
    {
     "name": "stdout",
     "output_type": "stream",
     "text": [
      "(1, 200, 200, 3)\n"
     ]
    },
    {
     "data": {
      "image/png": "[encoded data removed]",
      "text/plain": [
       "<Figure size 432x288 with 1 Axes>"
      ]
     },
     "metadata": {
      "needs_background": "light"
     },
     "output_type": "display_data"
    }
   ],
   "source": [
    "import matplotlib.pyplot as plt\n",
    "def drawimage(image,title=\"facial feature\"):\n",
    "    image = image.reshape(100,100,3)\n",
    "    plt.imshow(image)\n",
    "    plt.axis(\"off\")\n",
    "    plt.title(title,fontsize=20)\n",
    "    plt.show()\n",
    "model = load_model('./final_cnn_checkpoint.tf')\n",
    "inp = np.array([1,1,1,1,1,1])\n",
    "inp = np.expand_dims(inp,axis=0)\n",
    "pred = model.predict(inp)\n",
    "print(pred.shape)\n",
    "drawimage(pred) "
   ]
  },
  {
   "cell_type": "code",
   "execution_count": null,
   "metadata": {},
   "outputs": [],
   "source": []
  }
 ],
 "metadata": {
  "kernelspec": {
   "display_name": "Python 3",
   "language": "python",
   "name": "python3"
  }
 },
 "nbformat": 4,
 "nbformat_minor": 4
}
