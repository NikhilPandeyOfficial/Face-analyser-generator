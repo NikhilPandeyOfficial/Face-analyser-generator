{
 "cells": [
  {
   "cell_type": "code",
   "execution_count": 1,
   "metadata": {},
   "outputs": [],
   "source": [
    "import imageio\n",
    "import imgaug as ia\n",
    "import imgaug.augmenters as iaa\n",
    "import os"
   ]
  },
  {
   "cell_type": "code",
   "execution_count": 2,
   "metadata": {},
   "outputs": [
    {
     "name": "stdout",
     "output_type": "stream",
     "text": [
      "['blue', 'brown', 'green']\n"
     ]
    }
   ],
   "source": [
    "path=\"./images/\"\n",
    "folders=os.listdir(path)\n",
    "try:\n",
    "    os.mkdir(\"./out\")\n",
    "except OSError as e:\n",
    "    print(\"Folder Exists\")\n",
    "print(folders)\n",
    "for i in range(0,len(folders)):\n",
    "    try:\n",
    "        os.mkdir(\"./out/\"+folders[i])\n",
    "    except OSError as e:\n",
    "        print(\"Folder Exists\")"
   ]
  },
  {
   "cell_type": "code",
   "execution_count": 3,
   "metadata": {},
   "outputs": [],
   "source": [
    "for j in range(0,len(folders)):\n",
    "    dList=os.listdir(path+folders[j])\n",
    "#     print(dlist)\n",
    "    out_path=\"./out/\"+folders[j]+\"/\"\n",
    "    for i in range(0,len(dList)):\n",
    "        image=imageio.imread(path+folders[j]+\"/\"+dList[i])\n",
    "        #original    \n",
    "        try:\n",
    "            imageio.imwrite(out_path+dList[i],image)\n",
    "        except Exception as e:\n",
    "            continue\n",
    "        #rotate right\n",
    "        rotate=iaa.Affine(rotate=(10,20),mode=\"edge\")\n",
    "        res=rotate.augment_image(image)\n",
    "        imageio.imwrite(out_path+\"a\"+dList[i],res)\n",
    "        #rotate left\n",
    "        rotate=iaa.Affine(rotate=(-20,-10),mode=\"edge\")\n",
    "        res=rotate.augment_image(image)\n",
    "        imageio.imwrite(out_path+\"b\"+dList[i],res)\n",
    "        #translate left\n",
    "        tr=iaa.Affine(translate_percent={\"x\":(-.3,-.2),\"y\":(-.2,.2)},mode=\"edge\")\n",
    "        res=tr.augment_image(image)\n",
    "        imageio.imwrite(out_path+\"c\"+dList[i],res)\n",
    "        #translate right\n",
    "        tr=iaa.Affine(translate_percent={\"x\":(.3,.2),\"y\":(-.2,.2)},mode=\"edge\")\n",
    "        res=tr.augment_image(image)\n",
    "        imageio.imwrite(out_path+\"d\"+dList[i],res)\n",
    "        #shear left\n",
    "        sh=iaa.ShearX((-15,-10),mode=\"edge\")\n",
    "        res=sh.augment_image(image)\n",
    "        imageio.imwrite(out_path+\"e\"+dList[i],res)\n",
    "        #shear right\n",
    "        sh=iaa.ShearX((15,10) ,mode=\"edge\")\n",
    "        res=sh.augment_image(image)\n",
    "        imageio.imwrite(out_path+\"f\"+dList[i],res)\n",
    "        #flip\n",
    "        fl=iaa.Fliplr(1.0)\n",
    "        res=fl.augment_image(image)\n",
    "        imageio.imwrite(out_path+\"g\"+dList[i],res)"
   ]
  },
  {
   "cell_type": "code",
   "execution_count": null,
   "metadata": {},
   "outputs": [],
   "source": []
  }
 ],
 "metadata": {
  "kernelspec": {
   "display_name": "Python 3",
   "language": "python",
   "name": "python3"
  },
  "language_info": {
   "codemirror_mode": {
    "name": "ipython",
    "version": 3
   },
   "file_extension": ".py",
   "mimetype": "text/x-python",
   "name": "python",
   "nbconvert_exporter": "python",
   "pygments_lexer": "ipython3",
   "version": "3.7.0b3"
  }
 },
 "nbformat": 4,
 "nbformat_minor": 4
}
